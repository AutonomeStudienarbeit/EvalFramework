{
 "cells": [
  {
   "cell_type": "code",
   "execution_count": 1,
   "metadata": {
    "collapsed": true
   },
   "outputs": [],
   "source": [
    "import json\n",
    "import os.path\n",
    "\n",
    "import pandas as pd\n",
    "import numpy as np\n",
    "import matplotlib.pyplot as plt"
   ]
  },
  {
   "cell_type": "markdown",
   "source": [
    "# Road annotations"
   ],
   "metadata": {
    "collapsed": false
   }
  },
  {
   "cell_type": "code",
   "execution_count": 2,
   "outputs": [],
   "source": [
    "road_root = \"../data/datasets/road\""
   ],
   "metadata": {
    "collapsed": false,
    "pycharm": {
     "name": "#%%\n"
    }
   }
  },
  {
   "cell_type": "code",
   "execution_count": 3,
   "outputs": [],
   "source": [
    "with open(f\"{road_root}/road_trainval_v1.0.json\") as f:\n",
    "    road_annots = json.load(f)"
   ],
   "metadata": {
    "collapsed": false,
    "pycharm": {
     "name": "#%%\n"
    }
   }
  },
  {
   "cell_type": "markdown",
   "source": [
    "The first level of `road_trainval_v1.0.json` contains dataset level information like classes of each label type:\n",
    "\n",
    "- Here are all the fields: `dict_keys(['all_input_labels', 'all_av_action_labels', 'av_action_labels', 'agent_labels', 'action_labels', 'duplex_labels', 'triplet_labels', 'loc_labels', 'db', 'label_types', 'all_duplex_labels', 'all_triplet_labels', 'all_agent_labels', 'all_loc_labels', 'all_action_labels', 'duplex_childs', 'triplet_childs'])`\n",
    "- `all_input_labels`: All classes used to annotate the dataset\n",
    "- `label_types` :  It is list of all the label types `['agent', 'action', 'loc', 'duplex', 'triplet']`.\n",
    "- `all_av_action_labels`: All classes used to annotate AV actions\n",
    "- `av_action_labels`: Classes finally being used for AV actions\n",
    "-  Remaining fields ending with `labels` follows the same logic and AV actions described in above line.\n",
    "- `duplex_childs` and `triplet_childs` contain ids of child classes form `agent`, `action` or `location` labels to construct `duplex` or `triplet` labels,\n",
    "- `duplex` is constructed using `agent` and `action` classes.\n",
    "- `event` or `triplet` is constructed  using `agent`, `action`, and `location` classes.\n",
    "\n",
    "Finally, the `db` field contains all `frame` and `tube` level annotations for all the videos"
   ],
   "metadata": {
    "collapsed": false
   }
  },
  {
   "cell_type": "code",
   "execution_count": 4,
   "outputs": [
    {
     "name": "stdout",
     "output_type": "stream",
     "text": [
      "Available Agent labels: ['Ped', 'Car', 'Cyc', 'Mobike', 'SmalVeh', 'MedVeh', 'LarVeh', 'Bus', 'EmVeh', 'TL', 'OthTL']\n"
     ]
    }
   ],
   "source": [
    "agents = road_annots['all_agent_labels']\n",
    "print(f\"Available Agent labels: {agents}\")"
   ],
   "metadata": {
    "collapsed": false,
    "pycharm": {
     "name": "#%%\n"
    }
   }
  },
  {
   "cell_type": "markdown",
   "source": [
    "- To access annotation for a vides, use db['2014-06-25-16-45-34_stereo_centre_02'], where `'2014-06-25-16-45-34_stereo_centre_02'` is name of a video.\n",
    "- Each video annotation comes with following fields\n",
    "    - `['split_ids', 'agent_tubes', 'action_tubes', 'loc_tubes', 'duplex_tubes', 'triplet_tubes', 'av_action_tubes', 'frame_labels', 'frames', 'numf']`\n",
    "    - `split_ids` contains the split id assigned this videos out of `'test', 'train_1','val_1',........'val_3'`.\n",
    "    - `numf` is number of frames in the video.\n",
    "    - `frame_labels` is AV-action class ids assigned for each frame of the videos.\n",
    "    - `frames` contains frame-level annotations\n",
    "        - for the each frame of the video, e.g. for `'1'` frame, frames['1'] contains `['annotated', 'rgb_image_id', 'width', 'height', 'av_action_ids', 'annos', 'input_image_id']`\n",
    "        - `annotated` is flag to indicate if frame is annotated or not.\n",
    "        - `rgb_image_id` = `input_image_id` is id of physical frame extracted by ffmpeg.\n",
    "        - `av_action_ids`: AV action labels\n",
    "        - `annos` : contains annotations of a frame with bounding boxes with unique keys like `annos['4585'] =['b19111',]` from a frame number `'4585'`, which is unique in whole dataset.\n",
    "        - `annos['b09']` has following keys `dict_keys(['box', 'agent_ids', 'loc_ids', 'action_ids', 'duplex_ids', 'triplet_ids', 'tube_uid'])`\n",
    "            - `box` is normalized (0,1) bounding box coordinate with `xmin, ymin, xmax, ymax`\n",
    "            - `tube_uid` id of the agent tube it belongs.\n",
    "            - fields ending with `_ids` contains class ids of respective label type.\n",
    "    - The fields ending `tubes` contains tube-level annotation of respective label-type.\n",
    "        - for example, `db['2014-06-25-16-45-34_stereo_centre_02']['agent_tubes']` contains tubes with fields like `['544e13cc-001-01', 'a074d1bf-001-01', 'e97b3e4c-001-01', 'edb6d66a-005-01', .........]`\n",
    "        - each tube has following fields `dict_keys(['label_id', 'annos'])`\n",
    "            - `label_id` is class id from respective label type.\n",
    "            - `annos` is dictinary with keys made of frame_ids, e.g. `['agent_tubes']['10284a58-002-01']['annos'].keys()` >> `dict_keys(['4585', '4586', ......, '4629', '4630'])`\n",
    "            - `annos['4585'] = 'b19111'` stores unique key which points to frame-level annotations in frame number '4585'.\n"
   ],
   "metadata": {
    "collapsed": false
   }
  },
  {
   "cell_type": "code",
   "execution_count": 5,
   "outputs": [
    {
     "name": "stdout",
     "output_type": "stream",
     "text": [
      "dict_keys(['2014-06-25-16-45-34_stereo_centre_02', '2014-06-26-09-53-12_stereo_centre_02', '2014-07-14-14-49-50_stereo_centre_01', '2014-07-14-15-42-55_stereo_centre_03', '2014-08-08-13-15-11_stereo_centre_01', '2014-08-11-10-59-18_stereo_centre_02', '2014-11-14-16-34-33_stereo_centre_06', '2014-11-18-13-20-12_stereo_centre_05', '2014-11-21-16-07-03_stereo_centre_01', '2014-11-25-09-18-32_stereo_centre_04', '2014-12-09-13-21-02_stereo_centre_01', '2015-02-03-08-45-10_stereo_centre_02', '2015-02-03-19-43-11_stereo_centre_04', '2015-02-06-13-57-16_stereo_centre_02', '2015-02-13-09-16-26_stereo_centre_02', '2015-02-13-09-16-26_stereo_centre_05', '2015-02-24-12-32-19_stereo_centre_04', '2015-03-03-11-31-36_stereo_centre_01'])\n",
      "18\n"
     ]
    }
   ],
   "source": [
    "frame_annotations = road_annots['db']\n",
    "print(frame_annotations.keys())\n",
    "print(len(frame_annotations.keys()))"
   ],
   "metadata": {
    "collapsed": false,
    "pycharm": {
     "name": "#%%\n"
    }
   }
  },
  {
   "cell_type": "code",
   "execution_count": 6,
   "outputs": [
    {
     "name": "stdout",
     "output_type": "stream",
     "text": [
      "Frame annotation: {'annotated': 1, 'rgb_image_id': 1, 'width': 1280, 'height': 960, 'av_action_ids': [1], 'annos': {'b01': {'box': [0.49769053117782913, 0.40846153846153843, 0.5348201977190377, 0.47486849911014434], 'agent_ids': [6], 'loc_ids': [0], 'action_ids': [8, 11], 'duplex_ids': [91, 94], 'triplet_ids': [1092, 1128], 'tube_uid': '8258d065'}, 'b02': {'box': [0.528591925544685, 0.44310658493177774, 0.540698263555602, 0.48538461538461536], 'agent_ids': [2], 'loc_ids': [0], 'action_ids': [3], 'duplex_ids': [25], 'triplet_ids': [300], 'tube_uid': 'c2b85678'}}, 'input_image_id': 1}\n"
     ]
    }
   ],
   "source": [
    "test_frame = frame_annotations['2014-06-25-16-45-34_stereo_centre_02']['frames']['1']\n",
    "print(f\"Frame annotation: {test_frame}\")"
   ],
   "metadata": {
    "collapsed": false,
    "pycharm": {
     "name": "#%%\n"
    }
   }
  },
  {
   "cell_type": "code",
   "execution_count": 7,
   "outputs": [
    {
     "name": "stdout",
     "output_type": "stream",
     "text": [
      "                                                           b01  \\\n",
      "box          [0.49769053117782913, 0.40846153846153843, 0.5...   \n",
      "agent_ids                                                  [6]   \n",
      "loc_ids                                                    [0]   \n",
      "action_ids                                             [8, 11]   \n",
      "duplex_ids                                            [91, 94]   \n",
      "triplet_ids                                       [1092, 1128]   \n",
      "tube_uid                                              8258d065   \n",
      "\n",
      "                                                           b02  \n",
      "box          [0.528591925544685, 0.44310658493177774, 0.540...  \n",
      "agent_ids                                                  [2]  \n",
      "loc_ids                                                    [0]  \n",
      "action_ids                                                 [3]  \n",
      "duplex_ids                                                [25]  \n",
      "triplet_ids                                              [300]  \n",
      "tube_uid                                              c2b85678  \n"
     ]
    }
   ],
   "source": [
    "test_frame_df = pd.DataFrame.from_dict(test_frame['annos'])\n",
    "print(test_frame_df)"
   ],
   "metadata": {
    "collapsed": false,
    "pycharm": {
     "name": "#%%\n"
    }
   }
  },
  {
   "cell_type": "code",
   "execution_count": 8,
   "outputs": [
    {
     "name": "stdout",
     "output_type": "stream",
     "text": [
      "Number of frames in video: 4734\n"
     ]
    }
   ],
   "source": [
    "print(f\"Number of frames in video: {len(frame_annotations['2014-06-25-16-45-34_stereo_centre_02']['frames'].keys())}\")"
   ],
   "metadata": {
    "collapsed": false,
    "pycharm": {
     "name": "#%%\n"
    }
   }
  },
  {
   "cell_type": "code",
   "execution_count": 9,
   "outputs": [
    {
     "name": "stdout",
     "output_type": "stream",
     "text": [
      "1\n",
      "Number of annotated frames in video: 4734\n"
     ]
    }
   ],
   "source": [
    "for frame in frame_annotations['2014-06-25-16-45-34_stereo_centre_02'].get('frames'):\n",
    "    print(frame)\n",
    "    break\n",
    "print(f\"Number of annotated frames in video: {len([frame for frame in frame_annotations['2014-06-25-16-45-34_stereo_centre_02']['frames'] if frame_annotations['2014-06-25-16-45-34_stereo_centre_02']['frames'][frame]['annotated']])}\")"
   ],
   "metadata": {
    "collapsed": false,
    "pycharm": {
     "name": "#%%\n"
    }
   }
  },
  {
   "cell_type": "markdown",
   "source": [
    "## Plot number of annotated frames over number of frames in the video"
   ],
   "metadata": {
    "collapsed": false
   }
  },
  {
   "cell_type": "code",
   "execution_count": 6,
   "outputs": [
    {
     "name": "stdout",
     "output_type": "stream",
     "text": [
      "['video_0', 'video_1', 'video_2', 'video_3', 'video_4', 'video_5', 'video_6', 'video_7', 'video_8', 'video_9', 'video_10', 'video_11', 'video_12', 'video_13', 'video_14', 'video_15', 'video_16', 'video_17']\n",
      "[4734 6000 6001 6000 6001 1168 6000 6000 6001 6000 6001 6000 6000 6000\n",
      " 6000 6000 6000 6001]\n",
      "[4734 5999 5980 6000 6001 1168 6000 5976 6001 5930 6001 6000 6000 6000\n",
      " 6000 6000 6000 5990]\n"
     ]
    },
    {
     "data": {
      "text/plain": "<Figure size 1008x720 with 1 Axes>",
      "image/png": "[encoded data removed]"
     },
     "metadata": {
      "needs_background": "light"
     },
     "output_type": "display_data"
    }
   ],
   "source": [
    "videos = [ f\"video_{count}\" for count in np.arange(len(frame_annotations.keys()))]\n",
    "x = np.arange(len(videos))\n",
    "print(videos)\n",
    "frame_counts = np.array([len(frame_annotations[video]['frames'].keys()) for video in frame_annotations])\n",
    "print(frame_counts)\n",
    "annotated_frame_counts = np.array([len([frame for frame in frame_annotations[video]['frames'] if frame_annotations[video]['frames'][frame]['annotated']]) for video in frame_annotations])\n",
    "print(annotated_frame_counts)\n",
    "width = 0.3\n",
    "\n",
    "fig, ax = plt.subplots(figsize=(14,10))\n",
    "ax.bar(x-width/2, frame_counts, width=0.2, color='b', align='center', label='frame count')\n",
    "ax.bar(x+width/2, annotated_frame_counts, width=0.2, color='r', align='center', label='annotated frame count')\n",
    "ax.axhline(y=frame_counts.mean(), linewidth=4, color='g', label='Mean')\n",
    "\n",
    "ax.set_ylabel('frame counts')\n",
    "ax.set_title('frame counts grouped by video')\n",
    "ax.set_xticks(x, videos)\n",
    "ax.legend()\n",
    "\n",
    "ax.autoscale(tight=True)\n",
    "fig.tight_layout()\n",
    "fig.autofmt_xdate()\n",
    "\n",
    "plt.ylim((0, 6500))\n",
    "plt.show()"
   ],
   "metadata": {
    "collapsed": false,
    "pycharm": {
     "name": "#%%\n"
    }
   }
  },
  {
   "cell_type": "code",
   "execution_count": 7,
   "outputs": [
    {
     "data": {
      "text/plain": "<Figure size 360x360 with 1 Axes>",
      "image/png": "[encoded data removed]"
     },
     "metadata": {
      "needs_background": "light"
     },
     "output_type": "display_data"
    }
   ],
   "source": [
    "difs =np.subtract(np.array(frame_counts), np.array(annotated_frame_counts))\n",
    "videos_with_dif = [video for i, video in enumerate(videos) if difs[i] > 0]\n",
    "x = np.arange(len(videos_with_dif))\n",
    "\n",
    "fig, ax = plt.subplots(figsize=(5,5))\n",
    "ax.bar(x, difs[difs > 0], width=0.2, color='b', align='center')\n",
    "ax.axhline(y=difs.mean(), linewidth=4, color='r', label='Mean')\n",
    "\n",
    "ax.set_ylabel('frame counts')\n",
    "ax.set_title('frame count and annotated frame count difference per video')\n",
    "ax.set_xticks(x, videos_with_dif)\n",
    "\n",
    "ax.autoscale(tight=True)\n",
    "ax.legend()\n",
    "fig.tight_layout()\n",
    "fig.autofmt_xdate()\n",
    "\n",
    "plt.ylim((0, 75))\n",
    "plt.show()"
   ],
   "metadata": {
    "collapsed": false,
    "pycharm": {
     "name": "#%%\n"
    }
   }
  },
  {
   "cell_type": "markdown",
   "source": [
    "## Instance Counts\n"
   ],
   "metadata": {
    "collapsed": false
   }
  },
  {
   "cell_type": "code",
   "execution_count": null,
   "outputs": [],
   "source": [],
   "metadata": {
    "collapsed": false,
    "pycharm": {
     "name": "#%%\n"
    }
   }
  },
  {
   "cell_type": "markdown",
   "source": [
    "# Converting to Yolo Format"
   ],
   "metadata": {
    "collapsed": false
   }
  },
  {
   "cell_type": "code",
   "execution_count": 12,
   "outputs": [
    {
     "name": "stdout",
     "output_type": "stream",
     "text": [
      "Frame annotation: {'annotated': 1, 'rgb_image_id': 1, 'width': 1280, 'height': 960, 'av_action_ids': [1], 'annos': {'b01': {'box': [0.49769053117782913, 0.40846153846153843, 0.5348201977190377, 0.47486849911014434], 'agent_ids': [6], 'loc_ids': [0], 'action_ids': [8, 11], 'duplex_ids': [91, 94], 'triplet_ids': [1092, 1128], 'tube_uid': '8258d065'}, 'b02': {'box': [0.528591925544685, 0.44310658493177774, 0.540698263555602, 0.48538461538461536], 'agent_ids': [2], 'loc_ids': [0], 'action_ids': [3], 'duplex_ids': [25], 'triplet_ids': [300], 'tube_uid': 'c2b85678'}}, 'input_image_id': 1}\n",
      "00001\n"
     ]
    }
   ],
   "source": [
    "print(f\"Frame annotation: {test_frame}\")\n",
    "print(f\"{test_frame['rgb_image_id']:05d}\")"
   ],
   "metadata": {
    "collapsed": false,
    "pycharm": {
     "name": "#%%\n"
    }
   }
  },
  {
   "cell_type": "markdown",
   "source": [
    "Clean up all the data we don't need for our use case"
   ],
   "metadata": {
    "collapsed": false
   }
  },
  {
   "cell_type": "code",
   "execution_count": 8,
   "outputs": [
    {
     "name": "stdout",
     "output_type": "stream",
     "text": [
      "                                                  path  image_width  \\\n",
      "0       2014-06-25-16-45-34_stereo_centre_02/00001.jpg         1280   \n",
      "1       2014-06-25-16-45-34_stereo_centre_02/00001.jpg         1280   \n",
      "2       2014-06-25-16-45-34_stereo_centre_02/00002.jpg         1280   \n",
      "3       2014-06-25-16-45-34_stereo_centre_02/00002.jpg         1280   \n",
      "4       2014-06-25-16-45-34_stereo_centre_02/00003.jpg         1280   \n",
      "...                                                ...          ...   \n",
      "476672  2015-03-03-11-31-36_stereo_centre_01/05999.jpg         1280   \n",
      "476673  2015-03-03-11-31-36_stereo_centre_01/06000.jpg         1280   \n",
      "476674  2015-03-03-11-31-36_stereo_centre_01/06000.jpg         1280   \n",
      "476675  2015-03-03-11-31-36_stereo_centre_01/06001.jpg         1280   \n",
      "476676  2015-03-03-11-31-36_stereo_centre_01/06001.jpg         1280   \n",
      "\n",
      "        image_height      xmin      ymin      xmax      ymax  classId  \n",
      "0                960  0.497691  0.408462  0.534820  0.474868        6  \n",
      "1                960  0.528592  0.443107  0.540698  0.485385        2  \n",
      "2                960  0.496345  0.407949  0.534761  0.474784        6  \n",
      "3                960  0.528334  0.443022  0.539797  0.485729        2  \n",
      "4                960  0.495000  0.407436  0.534701  0.474700        6  \n",
      "...              ...       ...       ...       ...       ...      ...  \n",
      "476672           960  0.531886  0.433663  0.557949  0.473963        2  \n",
      "476673           960  0.693165  0.466997  0.718425  0.528383        0  \n",
      "476674           960  0.535541  0.433663  0.557949  0.474659        2  \n",
      "476675           960  0.699108  0.468317  0.724368  0.529703        0  \n",
      "476676           960  0.539195  0.433663  0.557949  0.475355        2  \n",
      "\n",
      "[476677 rows x 8 columns]\n"
     ]
    }
   ],
   "source": [
    "# path, image_width, image_height, xmin, ymin, xmax, ymax, classId\n",
    "frame_annotations_cleaned = []\n",
    "for video in frame_annotations:\n",
    "    for frame in frame_annotations[video]['frames']:\n",
    "        frame_data = frame_annotations[video]['frames'][frame]\n",
    "        if frame_data['annotated']:\n",
    "            for annotation in frame_data['annos']:\n",
    "                object_annotation = frame_data['annos'][annotation]\n",
    "                frame_annotations_cleaned.append(\n",
    "                    [\n",
    "                        f\"{video}/{int(frame):05d}.jpg\",\n",
    "                        frame_data['width'],\n",
    "                        frame_data['height'],\n",
    "                        object_annotation['box'][0],\n",
    "                        object_annotation['box'][1],\n",
    "                        object_annotation['box'][2],\n",
    "                        object_annotation['box'][3],\n",
    "                        object_annotation['agent_ids'][0]\n",
    "                    ]\n",
    "                )\n",
    "\n",
    "gt_df = pd.DataFrame(frame_annotations_cleaned, columns=['path', 'image_width', 'image_height', 'xmin', 'ymin', 'xmax', 'ymax', 'classId'])\n",
    "print(gt_df)"
   ],
   "metadata": {
    "collapsed": false,
    "pycharm": {
     "name": "#%%\n"
    }
   }
  },
  {
   "cell_type": "code",
   "execution_count": 21,
   "outputs": [
    {
     "name": "stdout",
     "output_type": "stream",
     "text": [
      "(101907,)\n"
     ]
    }
   ],
   "source": [
    "road_all_frames = []\n",
    "for video in frame_annotations:\n",
    "    road_all_frames += [f\"{video}/{int(frame):05d}.jpg\" for frame in frame_annotations[video]['frames']]\n",
    "\n",
    "road_all_frames = np.array(road_all_frames)\n",
    "print(road_all_frames.shape)\n"
   ],
   "metadata": {
    "collapsed": false,
    "pycharm": {
     "name": "#%%\n"
    }
   }
  },
  {
   "cell_type": "code",
   "execution_count": 23,
   "outputs": [
    {
     "name": "stdout",
     "output_type": "stream",
     "text": [
      "Dataframe: road_all_frames is ok: True\n"
     ]
    }
   ],
   "source": [
    "import os\n",
    "ok = True\n",
    "for entry in road_all_frames:\n",
    "    if not os.path.isfile(f\"{road_root}/rgb-images/{entry}\"):\n",
    "        ok = False\n",
    "        print(f\"file {entry} does not exist\")\n",
    "\n",
    "print(f\"Dataframe: road_all_frames is ok: {ok}\")"
   ],
   "metadata": {
    "collapsed": false,
    "pycharm": {
     "name": "#%%\n"
    }
   }
  },
  {
   "cell_type": "code",
   "execution_count": 24,
   "outputs": [
    {
     "name": "stdout",
     "output_type": "stream",
     "text": [
      "(61144, 1)\n",
      "(20381, 1)\n",
      "(20382, 1)\n",
      "                                                     0\n",
      "44207   2014-11-21-16-07-03_stereo_centre_01/02304.jpg\n",
      "8959    2014-06-26-09-53-12_stereo_centre_02/04226.jpg\n",
      "59282   2014-12-09-13-21-02_stereo_centre_01/05378.jpg\n",
      "66059   2015-02-03-19-43-11_stereo_centre_04/00154.jpg\n",
      "91099   2015-02-24-12-32-19_stereo_centre_04/01194.jpg\n",
      "...                                                ...\n",
      "100981  2015-03-03-11-31-36_stereo_centre_01/05076.jpg\n",
      "70391   2015-02-03-19-43-11_stereo_centre_04/04486.jpg\n",
      "40214   2014-11-18-13-20-12_stereo_centre_05/04311.jpg\n",
      "58679   2014-12-09-13-21-02_stereo_centre_01/04775.jpg\n",
      "90018   2015-02-24-12-32-19_stereo_centre_04/00113.jpg\n",
      "\n",
      "[61144 rows x 1 columns]\n"
     ]
    }
   ],
   "source": [
    "road_all_frames_df = pd.DataFrame(road_all_frames)\n",
    "# create train, val & test splits\n",
    "train, val, test = np.split(road_all_frames_df.sample(frac=1, random_state=42), [int(.6 * len(road_all_frames_df)), int(.8 * len(road_all_frames_df))])  # train: 80%, val: 20%, test: 20%\n",
    "print(train.shape)\n",
    "print(val.shape)\n",
    "print(test.shape)\n",
    "print(train)"
   ],
   "metadata": {
    "collapsed": false,
    "pycharm": {
     "name": "#%%\n"
    }
   }
  },
  {
   "cell_type": "code",
   "execution_count": 16,
   "outputs": [],
   "source": [
    "from pathlib import Path\n",
    "def create_nested_folders(*paths):\n",
    "    for path in paths:\n",
    "        p = Path(path)\n",
    "        p.mkdir(parents=True, exist_ok=True)"
   ],
   "metadata": {
    "collapsed": false,
    "pycharm": {
     "name": "#%%\n"
    }
   }
  },
  {
   "cell_type": "code",
   "execution_count": 17,
   "outputs": [],
   "source": [
    "create_nested_folders(\n",
    "            f\"{road_root}/train/images\",\n",
    "            f\"{road_root}/train/labels\",\n",
    "        )"
   ],
   "metadata": {
    "collapsed": false,
    "pycharm": {
     "name": "#%%\n"
    }
   }
  },
  {
   "cell_type": "code",
   "execution_count": 23,
   "outputs": [],
   "source": [
    "# convert gtsdb csv Labels to YoloFileFormat\n",
    "# YOLO format:\n",
    "# one *.txt file per image; The *.txt file specifications are:\n",
    "# - one row per object\n",
    "# - each row is [class x_center y_center width height] format\n",
    "# - Box coordinates must be in normalized xywh format (from 0 - 1). If your boxes are in pixels, divide x_center and width\n",
    "#   by image width, and y_center and height by image height\n",
    "# - Class numbers are zero-indexed (start from 0)\n",
    "\n",
    "# ['path', 'image_width', 'image_height', 'xmin', 'ymin', 'xmax', 'ymax', 'classId']\n",
    "\n",
    "for image_path in train[0]:\n",
    "    from shutil import move, copy2\n",
    "    video, image = image_path.split(\"/\")\n",
    "    copy2(f\"{road_root}/rgb-images/{image_path}\", f\"{road_root}/train/images/{video}-{image}\")\n",
    "    with open(f\"{road_root}/train/labels/{video}-{image[:-4]}.txt\", \"w+\") as f:\n",
    "        image_df = gt_df.loc[gt_df[\"path\"] == image_path]\n",
    "        gt_converted = np.array([\n",
    "            [\n",
    "                row.loc['classId'],\n",
    "                (row.loc[\"xmin\"] + row.loc[\"xmax\"]) / 2.0,\n",
    "                (row.loc[\"ymin\"] + row.loc[\"ymax\"]) / 2.0,\n",
    "                row.loc[\"xmax\"] - row.loc[\"xmin\"],\n",
    "                row.loc[\"ymax\"] - row.loc[\"ymin\"]\n",
    "            ] for index, row in image_df.iterrows()])\n",
    "        lines = [f\"{int(entry[0])} {' '.join(map(str, entry[1:]))}\" for entry in gt_converted]\n",
    "        f.write('\\n'.join(lines))\n",
    "        f.close()\n",
    "    break"
   ],
   "metadata": {
    "collapsed": false,
    "pycharm": {
     "name": "#%%\n"
    }
   }
  },
  {
   "cell_type": "code",
   "execution_count": 29,
   "outputs": [
    {
     "name": "stdout",
     "output_type": "stream",
     "text": [
      "                                                 path  image_width  \\\n",
      "37854  2014-06-26-09-53-12_stereo_centre_02/05352.jpg         1280   \n",
      "37855  2014-06-26-09-53-12_stereo_centre_02/05352.jpg         1280   \n",
      "37856  2014-06-26-09-53-12_stereo_centre_02/05352.jpg         1280   \n",
      "37857  2014-06-26-09-53-12_stereo_centre_02/05352.jpg         1280   \n",
      "\n",
      "       image_height      xmin      ymin      xmax      ymax  classId  \n",
      "37854           960  0.721747  0.478311  0.975885  0.640030        1  \n",
      "37855           960  0.292380  0.441400  0.319777  0.476788        1  \n",
      "37856           960  0.185360  0.435693  0.208476  0.504186        2  \n",
      "37857           960  0.336901  0.432268  0.356022  0.463090        5  \n",
      "False\n",
      "                                                     0\n",
      "96319   2014-06-26-09-53-12_stereo_centre_02/05352.jpg\n",
      "48156   2014-11-14-16-34-33_stereo_centre_06/02676.jpg\n",
      "33555   2014-07-14-15-42-55_stereo_centre_03/01865.jpg\n",
      "103284  2014-06-25-16-45-34_stereo_centre_02/05739.jpg\n",
      "86872   2014-08-08-13-15-11_stereo_centre_01/04827.jpg\n",
      "...                                                ...\n",
      "54526   2014-08-08-13-15-11_stereo_centre_01/03030.jpg\n",
      "41112   2014-06-25-16-45-34_stereo_centre_02/02285.jpg\n",
      "47061   2014-11-25-09-18-32_stereo_centre_04/02615.jpg\n",
      "73434   2015-02-03-19-43-11_stereo_centre_04/04080.jpg\n",
      "22497   2015-02-13-09-16-26_stereo_centre_05/01250.jpg\n",
      "\n",
      "[64810 rows x 1 columns]\n"
     ]
    }
   ],
   "source": [],
   "metadata": {
    "collapsed": false,
    "pycharm": {
     "name": "#%%\n"
    }
   }
  }
 ],
 "metadata": {
  "kernelspec": {
   "display_name": "Python 3",
   "language": "python",
   "name": "python3"
  },
  "language_info": {
   "codemirror_mode": {
    "name": "ipython",
    "version": 2
   },
   "file_extension": ".py",
   "mimetype": "text/x-python",
   "name": "python",
   "nbconvert_exporter": "python",
   "pygments_lexer": "ipython2",
   "version": "2.7.6"
  }
 },
 "nbformat": 4,
 "nbformat_minor": 0
}
{
 "cells": [
  {
   "cell_type": "markdown",
   "metadata": {},
   "source": [
    "# Experiment documentation for model selection"
   ]
  },
  {
   "cell_type": "code",
   "execution_count": null,
   "metadata": {
    "collapsed": true
   },
   "outputs": [],
   "source": [
    "from data.datasets import DatasetLoader\n",
    "from data.models.fasterRCNN import FasterRCNN\n",
    "import wandb"
   ]
  },
  {
   "cell_type": "markdown",
   "metadata": {},
   "source": [
    "weights = randomly initialized <br>\n",
    "dataset = GTSDB <br>\n",
    "model = faster-rcnn-resnet_50 <br>"
   ]
  },
  {
   "cell_type": "code",
   "execution_count": null,
   "metadata": {},
   "outputs": [],
   "source": [
    "loader = DatasetLoader()\n",
    "print(\"Running Experiment for: random init GTSDB resnet_50\")\n",
    "print(\"[*] loading Dataset\")\n",
    "gtsdb_dataset = loader.load_dataset(\"GTSDB\")\n",
    "print(\"[+] Dataset loaded\")\n",
    "print(\"[*] inializing Model\")\n",
    "fasterRCNN = FasterRCNN(dataset=gtsdb_dataset)\n",
    "print(\"[+] Model initialized\")\n",
    "print(\"[*] Preparing Dataset for Model\")\n",
    "fasterRCNN.prepare_dataset(subset_name=\"train\")\n",
    "print(\"[+] Preparing Dataset for Model finished\")\n",
    "fasterRCNN.set_backbone(\"resNet50_fpn\", False)\n",
    "print(\"[+] Backbone Set\")\n",
    "print(\"[*] starting training\")\n",
    "fasterRCNN.train(batch_size=4, num_epochs=10, print_freq=100)\n",
    "path = fasterRCNN.save()\n",
    "print(f\"[+] model saved to {path}\")\n",
    "wandb.finish()"
   ]
  },
  {
   "cell_type": "markdown",
   "metadata": {},
   "source": [
    "---\n",
    "weights = randomly initialized <br>\n",
    "dataset = GTSRB <br>\n",
    "model = faster-rcnn-resnet_50"
   ]
  },
  {
   "cell_type": "code",
   "execution_count": null,
   "metadata": {},
   "outputs": [],
   "source": [
    "print(\"\\n-----------------------------------------------------------------------------------------------------------------\\n\")\n",
    "print(\"Running Experiment for: random init GTSRB resnet_50\")\n",
    "print(\"[*] loading Dataset\")\n",
    "gtsdb_dataset = loader.load_dataset(\"GTSRB\")\n",
    "print(\"[+] Dataset loaded\")\n",
    "print(\"[*] inializing Model\")\n",
    "fasterRCNN = FasterRCNN(dataset=gtsdb_dataset)\n",
    "print(\"[+] Model initialized\")\n",
    "print(\"[*] Preparing Dataset for Model\")\n",
    "fasterRCNN.prepare_dataset(subset_name=\"train\")\n",
    "print(\"[+] Preparing Dataset for Model finished\")\n",
    "fasterRCNN.set_backbone(\"resNet50_fpn\", False)\n",
    "print(\"[+] Backbone Set\")\n",
    "print(\"[*] starting training\")\n",
    "fasterRCNN.train(batch_size=4, num_epochs=10, print_freq=1000)\n",
    "path = fasterRCNN.save()\n",
    "print(f\"[+] model saved to {path}\")\n",
    "wandb.finish()"
   ]
  },
  {
   "cell_type": "markdown",
   "metadata": {},
   "source": [
    "---\n",
    "weights = pretrained on COCO <br>\n",
    "dataset = GTSRB <br>\n",
    "model = faster-rcnn-mobilenet-V3-large-320"
   ]
  },
  {
   "cell_type": "code",
   "execution_count": null,
   "metadata": {},
   "outputs": [],
   "source": [
    "print(\"\\n-----------------------------------------------------------------------------------------------------------------\\n\")\n",
    "print(\"Running Experiment for: COCO transfer GTSRB mobilenet\")\n",
    "print(\"[*] loading Dataset\")\n",
    "gtsdb_dataset = loader.load_dataset(\"GTSRB\")\n",
    "print(\"[+] Dataset loaded\")\n",
    "print(\"[*] inializing Model\")\n",
    "fasterRCNN = FasterRCNN(dataset=gtsdb_dataset)\n",
    "print(\"[+] Model initialized\")\n",
    "print(\"[*] Preparing Dataset for Model\")\n",
    "fasterRCNN.prepare_dataset(subset_name=\"train\")\n",
    "print(\"[+] Preparing Dataset for Model finished\")\n",
    "fasterRCNN.set_backbone(\"mobilenet_v3_large_320_fpn\", True)\n",
    "print(\"[+] Backbone Set\")\n",
    "print(\"[*] starting training\")\n",
    "fasterRCNN.train(batch_size=4, num_epochs=10, print_freq=1000)\n",
    "path = fasterRCNN.save()\n",
    "print(f\"[+] model saved to {path}\")\n",
    "wandb.finish()"
   ]
  },
  {
   "cell_type": "markdown",
   "metadata": {},
   "source": [
    "---\n",
    "weights = randomly initialized <br>\n",
    "dataset = GTSDB <br>\n",
    "model = faster-rcnn-mobilenet-V3-large-320"
   ]
  },
  {
   "cell_type": "code",
   "execution_count": null,
   "metadata": {},
   "outputs": [],
   "source": [
    "print(\"\\n-----------------------------------------------------------------------------------------------------------------\\n\")\n",
    "print(\"Running Experiment for: random init GTSDB mobilenet\")\n",
    "print(\"[*] loading Dataset\")\n",
    "gtsdb_dataset = loader.load_dataset(\"GTSDB\")\n",
    "print(\"[+] Dataset loaded\")\n",
    "print(\"[*] inializing Model\")\n",
    "fasterRCNN = FasterRCNN(dataset=gtsdb_dataset)\n",
    "print(\"[+] Model initialized\")\n",
    "print(\"[*] Preparing Dataset for Model\")\n",
    "fasterRCNN.prepare_dataset(subset_name=\"train\")\n",
    "print(\"[+] Preparing Dataset for Model finished\")\n",
    "fasterRCNN.set_backbone(\"mobilenet_v3_large_320_fpn\", False)\n",
    "print(\"[+] Backbone Set\")\n",
    "print(\"[*] starting training\")\n",
    "fasterRCNN.train(batch_size=4, num_epochs=10, print_freq=100)\n",
    "path = fasterRCNN.save()\n",
    "print(f\"[+] model saved to {path}\")\n",
    "wandb.finish()"
   ]
  },
  {
   "cell_type": "markdown",
   "metadata": {},
   "source": [
    "---\n",
    "weights = randomly initialized <br>\n",
    "dataset = GTSRB <br>\n",
    "model = faster-rcnn-mobilenet-V3-large-320"
   ]
  },
  {
   "cell_type": "code",
   "execution_count": null,
   "metadata": {},
   "outputs": [],
   "source": [
    "print(\"\\n-----------------------------------------------------------------------------------------------------------------\\n\")\n",
    "print(\"Running Experiment for: random init GTSRB mobilenet\")\n",
    "print(\"[*] loading Dataset\")\n",
    "gtsdb_dataset = loader.load_dataset(\"GTSRB\")\n",
    "print(\"[+] Dataset loaded\")\n",
    "print(\"[*] inializing Model\")\n",
    "fasterRCNN = FasterRCNN(dataset=gtsdb_dataset)\n",
    "print(\"[+] Model initialized\")\n",
    "print(\"[*] Preparing Dataset for Model\")\n",
    "fasterRCNN.prepare_dataset(subset_name=\"train\")\n",
    "print(\"[+] Preparing Dataset for Model finished\")\n",
    "fasterRCNN.set_backbone(\"mobilenet_v3_large_320_fpn\", False)\n",
    "print(\"[+] Backbone Set\")\n",
    "print(\"[*] starting training\")\n",
    "fasterRCNN.train(batch_size=4, num_epochs=10, print_freq=1000)\n",
    "path = fasterRCNN.save()\n",
    "print(f\"[+] model saved to {path}\")\n",
    "wandb.finish()"
   ]
  },
  {
   "cell_type": "markdown",
   "metadata": {},
   "source": [
    "---\n",
    "weights = pretrained on COCO <br>\n",
    "dataset = GTSDB <br>\n",
    "model = faster-rcnn-mobilenet-V3-large-320"
   ]
  },
  {
   "cell_type": "code",
   "execution_count": null,
   "metadata": {},
   "outputs": [],
   "source": [
    "print(\"\\n-----------------------------------------------------------------------------------------------------------------\\n\")\n",
    "print(\"Running Experiment for: COCO transfer GTSDB mobilenet\")\n",
    "print(\"[*] loading Dataset\")\n",
    "gtsdb_dataset = loader.load_dataset(\"GTSDB\")\n",
    "print(\"[+] Dataset loaded\")\n",
    "print(\"[*] inializing Model\")\n",
    "fasterRCNN = FasterRCNN(dataset=gtsdb_dataset)\n",
    "print(\"[+] Model initialized\")\n",
    "print(\"[*] Preparing Dataset for Model\")\n",
    "fasterRCNN.prepare_dataset(subset_name=\"train\")\n",
    "print(\"[+] Preparing Dataset for Model finished\")\n",
    "fasterRCNN.set_backbone(\"mobilenet_v3_large_320_fpn\", True)\n",
    "print(\"[+] Backbone Set\")\n",
    "print(\"[*] starting training\")\n",
    "fasterRCNN.train(batch_size=4, num_epochs=10, print_freq=100)\n",
    "path = fasterRCNN.save()\n",
    "print(f\"[+] model saved to {path}\")\n",
    "wandb.finish()"
   ]
  },
  {
   "cell_type": "markdown",
   "metadata": {},
   "source": [
    "---\n",
    "weights = pretrained on COCO <br>\n",
    "dataset = GTSDB <br>\n",
    "model = faster-rcnn-resnet-50"
   ]
  },
  {
   "cell_type": "code",
   "execution_count": null,
   "metadata": {},
   "outputs": [],
   "source": [
    "print(\"Running Experiment for: COCO transfer GTSDB resnet_50\")\n",
    "print(\"[*] loading Dataset\")\n",
    "gtsdb_dataset = loader.load_dataset(\"GTSDB\")\n",
    "print(\"[+] Dataset loaded\")\n",
    "print(\"[*] inializing Model\")\n",
    "fasterRCNN = FasterRCNN(dataset=gtsdb_dataset)\n",
    "print(\"[+] Model initialized\")\n",
    "print(\"[*] Preparing Dataset for Model\")\n",
    "fasterRCNN.prepare_dataset(subset_name=\"train\")\n",
    "print(\"[+] Preparing Dataset for Model finished\")\n",
    "fasterRCNN.set_backbone(\"resNet50_fpn\", True)\n",
    "print(\"[+] Backbone Set\")\n",
    "print(\"[*] starting training\")\n",
    "fasterRCNN.train(batch_size=4, num_epochs=10, print_freq=100)\n",
    "path = fasterRCNN.save()\n",
    "print(f\"[+] model saved to {path}\")\n",
    "wandb.finish()"
   ]
  },
  {
   "cell_type": "markdown",
   "metadata": {},
   "source": [
    "---\n",
    "weights = pretrained on COCO <br>\n",
    "dataset = GTSRB <br>\n",
    "model = faster-rcnn-resnet-50"
   ]
  },
  {
   "cell_type": "code",
   "execution_count": null,
   "metadata": {},
   "outputs": [],
   "source": [
    "print(\"\\n-----------------------------------------------------------------------------------------------------------------\\n\")\n",
    "print(\"Running Experiment for: COCO transfer GTSRB resnet_50\")\n",
    "print(\"[*] loading Dataset\")\n",
    "gtsdb_dataset = loader.load_dataset(\"GTSRB\")\n",
    "print(\"[+] Dataset loaded\")\n",
    "print(\"[*] inializing Model\")\n",
    "fasterRCNN = FasterRCNN(dataset=gtsdb_dataset)\n",
    "print(\"[+] Model initialized\")\n",
    "print(\"[*] Preparing Dataset for Model\")\n",
    "fasterRCNN.prepare_dataset(subset_name=\"train\")\n",
    "print(\"[+] Preparing Dataset for Model finished\")\n",
    "fasterRCNN.set_backbone(\"resNet50_fpn\", True)\n",
    "print(\"[+] Backbone Set\")\n",
    "print(\"[*] starting training\")\n",
    "fasterRCNN.train(batch_size=4, num_epochs=10, print_freq=1000)\n",
    "path = fasterRCNN.save()\n",
    "print(f\"[+] model saved to {path}\")\n",
    "wandb.finish()"
   ]
  },
  {
   "cell_type": "markdown",
   "metadata": {},
   "source": [
    "---\n",
    "weights = pretrained on GTSRB <br>\n",
    "dataset = GTSDB <br>\n",
    "model = faster-rcnn-mobilenet-V3-large-320"
   ]
  },
  {
   "cell_type": "code",
   "execution_count": null,
   "metadata": {},
   "outputs": [],
   "source": [
    "print(\"\\n-----------------------------------------------------------------------------------------------------------------\\n\")\n",
    "print(\"Running Experiment for: GTSRB transfer GTSDB mobilenet\")\n",
    "print(\"[*] loading Dataset\")\n",
    "gtsdb_dataset = loader.load_dataset(\"GTSDB\")\n",
    "print(\"[+] Dataset loaded\")\n",
    "print(\"[*] inializing Model\")\n",
    "fasterRCNN = FasterRCNN(dataset=gtsdb_dataset)\n",
    "print(\"[+] Model initialized\")\n",
    "print(\"[*] Preparing Dataset for Model\")\n",
    "fasterRCNN.prepare_dataset(subset_name=\"train\")\n",
    "print(\"[+] Preparing Dataset for Model finished\")\n",
    "print(\"[*] Loading saved model\")\n",
    "fasterRCNN.load_model(f\"/home/leon/studienarbeit/EvalFramework/ref_models/fasterRCNN-mobilenet_v3_large_320_fpn-COCO-transfer-GTSRB-07_04_2022_22:28:10.pt\")\n",
    "print(\"[+] Model loaded\")\n",
    "print(\"[*] starting training\")\n",
    "fasterRCNN.train(batch_size=4, num_epochs=10, print_freq=1000)\n",
    "path = fasterRCNN.save()\n",
    "print(f\"[+] model saved to {path}\")\n",
    "wandb.finish()"
   ]
  },
  {
   "cell_type": "markdown",
   "metadata": {},
   "source": [
    "---\n",
    "weights = pretrained on GTSRB <br>\n",
    "dataset = GTSDB <br>\n",
    "model = faster-rcnn-resnet-50"
   ]
  }
 ],
 "metadata": {
  "kernelspec": {
   "display_name": "Python 3",
   "language": "python",
   "name": "python3"
  },
  "language_info": {
   "codemirror_mode": {
    "name": "ipython",
    "version": 2
   },
   "file_extension": ".py",
   "mimetype": "text/x-python",
   "name": "python",
   "nbconvert_exporter": "python",
   "pygments_lexer": "ipython2",
   "version": "3.9.10"
  }
 },
 "nbformat": 4,
 "nbformat_minor": 0
}

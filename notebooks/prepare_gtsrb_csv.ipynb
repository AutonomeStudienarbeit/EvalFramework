{
 "cells": [
  {
   "cell_type": "code",
   "execution_count": 34,
   "metadata": {
    "collapsed": true
   },
   "outputs": [],
   "source": [
    "import pandas as pd\n",
    "import os\n",
    "import numpy as np"
   ]
  },
  {
   "cell_type": "code",
   "execution_count": 35,
   "outputs": [
    {
     "name": "stdout",
     "output_type": "stream",
     "text": [
      "/home/leon/Documents/Studienarbeit/EvalFramework/notebooks\n"
     ]
    }
   ],
   "source": [
    "print(os.getcwd())"
   ],
   "metadata": {
    "collapsed": false,
    "pycharm": {
     "name": "#%%\n"
    }
   }
  },
  {
   "cell_type": "code",
   "execution_count": 36,
   "outputs": [
    {
     "name": "stdout",
     "output_type": "stream",
     "text": [
      "       Width  Height  Roi.X1  Roi.Y1  Roi.X2  Roi.Y2  ClassId  \\\n",
      "0         27      26       5       5      22      20       20   \n",
      "1         28      27       5       6      23      22       20   \n",
      "2         29      26       6       5      24      21       20   \n",
      "3         28      27       5       6      23      22       20   \n",
      "4         28      26       5       5      23      21       20   \n",
      "...      ...     ...     ...     ...     ...     ...      ...   \n",
      "39204     52      56       5       6      47      51       42   \n",
      "39205     56      58       5       5      51      53       42   \n",
      "39206     58      62       5       6      53      57       42   \n",
      "39207     63      69       5       7      58      63       42   \n",
      "39208     68      69       7       6      62      63       42   \n",
      "\n",
      "                                 Path  \n",
      "0      Train/20/00020_00000_00000.png  \n",
      "1      Train/20/00020_00000_00001.png  \n",
      "2      Train/20/00020_00000_00002.png  \n",
      "3      Train/20/00020_00000_00003.png  \n",
      "4      Train/20/00020_00000_00004.png  \n",
      "...                               ...  \n",
      "39204  Train/42/00042_00007_00025.png  \n",
      "39205  Train/42/00042_00007_00026.png  \n",
      "39206  Train/42/00042_00007_00027.png  \n",
      "39207  Train/42/00042_00007_00028.png  \n",
      "39208  Train/42/00042_00007_00029.png  \n",
      "\n",
      "[39209 rows x 8 columns]\n"
     ]
    }
   ],
   "source": [
    "train_df = pd.read_csv(\"../data/datasets/gtsrb/Train.csv\")\n",
    "print(train_df)"
   ],
   "metadata": {
    "collapsed": false,
    "pycharm": {
     "name": "#%%\n"
    }
   }
  },
  {
   "cell_type": "code",
   "execution_count": 37,
   "outputs": [
    {
     "name": "stdout",
     "output_type": "stream",
     "text": [
      "<class 'pandas.core.frame.DataFrame'>\n",
      "RangeIndex: 39209 entries, 0 to 39208\n",
      "Data columns (total 8 columns):\n",
      " #   Column   Non-Null Count  Dtype \n",
      "---  ------   --------------  ----- \n",
      " 0   Width    39209 non-null  int64 \n",
      " 1   Height   39209 non-null  int64 \n",
      " 2   Roi.X1   39209 non-null  int64 \n",
      " 3   Roi.Y1   39209 non-null  int64 \n",
      " 4   Roi.X2   39209 non-null  int64 \n",
      " 5   Roi.Y2   39209 non-null  int64 \n",
      " 6   ClassId  39209 non-null  int64 \n",
      " 7   Path     39209 non-null  object\n",
      "dtypes: int64(7), object(1)\n",
      "memory usage: 2.4+ MB\n"
     ]
    }
   ],
   "source": [
    "train_df.info()"
   ],
   "metadata": {
    "collapsed": false,
    "pycharm": {
     "name": "#%%\n"
    }
   }
  },
  {
   "cell_type": "markdown",
   "source": [
    "# The YoloFileFormat:\n",
    "YOLO format, with one *.txt file per image (if no objects in image, no *.txt file is required). The *.txt file specifications are:\n",
    "- One row per object\n",
    "- Each row is class x_center y_center width height format.\n",
    "- Box coordinates must be in normalized xywh format (from 0 - 1). If your boxes are in pixels, divide x_center and width by image width, and y_center and height by image height.\n",
    "- Class numbers are zero-indexed (start from 0).\n",
    "![](https://user-images.githubusercontent.com/26833433/91506361-c7965000-e886-11ea-8291-c72b98c25eec.jpg)\n",
    "The label file corresponding to the above image contains 2 persons (class 0) and a tie (class 27):\n",
    "![](https://user-images.githubusercontent.com/26833433/112467037-d2568c00-8d66-11eb-8796-55402ac0d62f.png)"
   ],
   "metadata": {
    "collapsed": false,
    "pycharm": {
     "name": "#%% md\n"
    }
   }
  },
  {
   "cell_type": "code",
   "execution_count": 38,
   "outputs": [
    {
     "name": "stdout",
     "output_type": "stream",
     "text": [
      "Width                                  27\n",
      "Height                                 26\n",
      "Roi.X1                                  5\n",
      "Roi.Y1                                  5\n",
      "Roi.X2                                 22\n",
      "Roi.Y2                                 20\n",
      "ClassId                                20\n",
      "Path       Train/20/00020_00000_00000.png\n",
      "Name: 0, dtype: object\n"
     ]
    }
   ],
   "source": [
    "# Calculate Center of ROI\n",
    "test_row = train_df.loc[0]\n",
    "print(test_row)"
   ],
   "metadata": {
    "collapsed": false,
    "pycharm": {
     "name": "#%%\n"
    }
   }
  },
  {
   "cell_type": "code",
   "execution_count": 39,
   "outputs": [
    {
     "name": "stdout",
     "output_type": "stream",
     "text": [
      "13 12 25 27\n"
     ]
    }
   ],
   "source": [
    "# The center of rectangle is the midpoint of the diagonal end points of rectangle\n",
    "x_center = (test_row.loc[\"Roi.X1\"] + test_row.loc[\"Roi.X2\"]) // 2\n",
    "y_center = (test_row.loc[\"Roi.Y1\"] + test_row.loc[\"Roi.Y2\"]) // 2\n",
    "box_width = test_row.loc[\"Roi.X1\"] + test_row.loc[\"Roi.X2\"]\n",
    "box_height = test_row.loc[\"Roi.Y1\"] + test_row.loc[\"Roi.Y2\"]\n",
    "print(x_center, y_center, box_height, box_width)"
   ],
   "metadata": {
    "collapsed": false,
    "pycharm": {
     "name": "#%%\n"
    }
   }
  },
  {
   "cell_type": "code",
   "execution_count": 40,
   "outputs": [
    {
     "name": "stdout",
     "output_type": "stream",
     "text": [
      "       Width  Height    Roi.X1    Roi.Y1    Roi.X2    Roi.Y2  ClassId  \\\n",
      "0         27      26  0.185185  0.192308  0.814815  0.769231       20   \n",
      "1         28      27  0.178571  0.222222  0.821429  0.814815       20   \n",
      "2         29      26  0.206897  0.192308  0.827586  0.807692       20   \n",
      "3         28      27  0.178571  0.222222  0.821429  0.814815       20   \n",
      "4         28      26  0.178571  0.192308  0.821429  0.807692       20   \n",
      "...      ...     ...       ...       ...       ...       ...      ...   \n",
      "39204     52      56  0.096154  0.107143  0.903846  0.910714       42   \n",
      "39205     56      58  0.089286  0.086207  0.910714  0.913793       42   \n",
      "39206     58      62  0.086207  0.096774  0.913793  0.919355       42   \n",
      "39207     63      69  0.079365  0.101449  0.920635  0.913043       42   \n",
      "39208     68      69  0.102941  0.086957  0.911765  0.913043       42   \n",
      "\n",
      "                                 Path  \n",
      "0      Train/20/00020_00000_00000.png  \n",
      "1      Train/20/00020_00000_00001.png  \n",
      "2      Train/20/00020_00000_00002.png  \n",
      "3      Train/20/00020_00000_00003.png  \n",
      "4      Train/20/00020_00000_00004.png  \n",
      "...                               ...  \n",
      "39204  Train/42/00042_00007_00025.png  \n",
      "39205  Train/42/00042_00007_00026.png  \n",
      "39206  Train/42/00042_00007_00027.png  \n",
      "39207  Train/42/00042_00007_00028.png  \n",
      "39208  Train/42/00042_00007_00029.png  \n",
      "\n",
      "[39209 rows x 8 columns]\n"
     ]
    }
   ],
   "source": [
    "# Normalize Coordinates (0-1)\n",
    "train_df[\"Roi.X1\"] /= train_df[\"Width\"]\n",
    "train_df[\"Roi.X2\"] /= train_df[\"Width\"]\n",
    "train_df[\"Roi.Y1\"] /= train_df[\"Height\"]\n",
    "train_df[\"Roi.Y2\"] /= train_df[\"Height\"]\n",
    "print(train_df)"
   ],
   "metadata": {
    "collapsed": false,
    "pycharm": {
     "name": "#%%\n"
    }
   }
  },
  {
   "cell_type": "code",
   "execution_count": 41,
   "outputs": [
    {
     "name": "stdout",
     "output_type": "stream",
     "text": [
      "39209\n",
      "Width                                  27\n",
      "Height                                 26\n",
      "Roi.X1                           0.185185\n",
      "Roi.Y1                           0.192308\n",
      "Roi.X2                           0.814815\n",
      "Roi.Y2                           0.769231\n",
      "ClassId                                20\n",
      "Path       Train/20/00020_00000_00000.png\n",
      "Name: 0, dtype: object\n",
      "(39209, 5)\n",
      "[[20.          0.5         0.48076923  1.          0.96153846]\n",
      " [20.          0.5         0.51851852  1.          1.03703704]\n",
      " [20.          0.51724138  0.5         1.03448276  1.        ]\n",
      " ...\n",
      " [42.          0.5         0.50806452  1.          1.01612903]\n",
      " [42.          0.5         0.50724638  1.          1.01449275]\n",
      " [42.          0.50735294  0.5         1.01470588  1.        ]]\n"
     ]
    }
   ],
   "source": [
    "print(len(train_df))\n",
    "# train_converted = np.empty((len(train_df), 5))\n",
    "for index, row in train_df.iterrows():\n",
    "    print(row)\n",
    "    break\n",
    "train_converted = np.array([\n",
    "    [\n",
    "        row.loc[\"ClassId\"],\n",
    "        (row.loc[\"Roi.X1\"] + row.loc[\"Roi.X2\"]) / 2.0,\n",
    "        (row.loc[\"Roi.Y1\"] + row.loc[\"Roi.Y2\"]) / 2.0,\n",
    "        row.loc[\"Roi.X1\"] + row.loc[\"Roi.X2\"],\n",
    "        row.loc[\"Roi.Y1\"] + row.loc[\"Roi.Y2\"]\n",
    "    ] for index, row in train_df.iterrows()])\n",
    "print(train_converted.shape)\n",
    "print(train_converted)"
   ],
   "metadata": {
    "collapsed": false,
    "pycharm": {
     "name": "#%%\n"
    }
   }
  },
  {
   "cell_type": "code",
   "execution_count": 47,
   "outputs": [],
   "source": [
    "for index, row in train_df.iterrows():\n",
    "    if row.loc[\"ClassId\"] == train_converted[index][0] and (row.loc[\"Roi.X1\"] + row.loc[\"Roi.X2\"]) / 2 == train_converted[index][1] and (row.loc[\"Roi.Y1\"] + row.loc[\"Roi.Y2\"]) / 2 == train_converted[index][2] and row.loc[\"Roi.X1\"] + row.loc[\"Roi.X2\"] == train_converted[index][3] and row.loc[\"Roi.Y1\"] + row.loc[\"Roi.Y2\"] == train_converted[index][4]:\n",
    "        continue\n",
    "    else:\n",
    "        print(\"row false values\")\n",
    "    break"
   ],
   "metadata": {
    "collapsed": false,
    "pycharm": {
     "name": "#%%\n"
    }
   }
  },
  {
   "cell_type": "code",
   "execution_count": 42,
   "outputs": [],
   "source": [
    "from shutil import move, copy2\n",
    "from os import mkdir, listdir\n",
    "gtsrb_root = \"../data/datasets/gtsrb/\"\n",
    "\n",
    "mkdir(f\"{gtsrb_root}train/images/\")\n",
    "#move(f\"{gtsrb_root}train/0/00000_00000_00000.png\", f\"{gtsrb_root}train/images/\")\n",
    "\n",
    "for folder in listdir(f\"{gtsrb_root}train/\"):\n",
    "    if folder == \"images\":\n",
    "        continue\n",
    "    for image in listdir(f\"{gtsrb_root}train/{folder}/\"):\n",
    "        move(f\"{gtsrb_root}train/{folder}/{image}\", f\"{gtsrb_root}train/images/\")\n",
    "    os.rmdir(f\"{gtsrb_root}train/{folder}\")"
   ],
   "metadata": {
    "collapsed": false,
    "pycharm": {
     "name": "#%%\n"
    }
   }
  },
  {
   "cell_type": "code",
   "execution_count": 44,
   "outputs": [
    {
     "name": "stdout",
     "output_type": "stream",
     "text": [
      "39209\n",
      "12631\n"
     ]
    }
   ],
   "source": [
    "print(len(listdir(f\"{gtsrb_root}train/images/\")))\n",
    "print(len(listdir(f\"{gtsrb_root}test/\")))"
   ],
   "metadata": {
    "collapsed": false,
    "pycharm": {
     "name": "#%%\n"
    }
   }
  },
  {
   "cell_type": "code",
   "execution_count": 48,
   "outputs": [
    {
     "name": "stdout",
     "output_type": "stream",
     "text": [
      "       Width  Height  Roi.X1  Roi.Y1  Roi.X2  Roi.Y2  ClassId  \\\n",
      "0         27      26       5       5      22      20       20   \n",
      "1         28      27       5       6      23      22       20   \n",
      "2         29      26       6       5      24      21       20   \n",
      "3         28      27       5       6      23      22       20   \n",
      "4         28      26       5       5      23      21       20   \n",
      "...      ...     ...     ...     ...     ...     ...      ...   \n",
      "39204     52      56       5       6      47      51       42   \n",
      "39205     56      58       5       5      51      53       42   \n",
      "39206     58      62       5       6      53      57       42   \n",
      "39207     63      69       5       7      58      63       42   \n",
      "39208     68      69       7       6      62      63       42   \n",
      "\n",
      "                                 Path  \n",
      "0      Train/20/00020_00000_00000.png  \n",
      "1      Train/20/00020_00000_00001.png  \n",
      "2      Train/20/00020_00000_00002.png  \n",
      "3      Train/20/00020_00000_00003.png  \n",
      "4      Train/20/00020_00000_00004.png  \n",
      "...                               ...  \n",
      "39204  Train/42/00042_00007_00025.png  \n",
      "39205  Train/42/00042_00007_00026.png  \n",
      "39206  Train/42/00042_00007_00027.png  \n",
      "39207  Train/42/00042_00007_00028.png  \n",
      "39208  Train/42/00042_00007_00029.png  \n",
      "\n",
      "[39209 rows x 8 columns]\n"
     ]
    }
   ],
   "source": [
    "dfs = [pd.read_csv(f\"{gtsrb_root}Train.csv\"), pd.read_csv(f\"{gtsrb_root}Test.csv\")]\n",
    "print(dfs[0])"
   ],
   "metadata": {
    "collapsed": false,
    "pycharm": {
     "name": "#%%\n"
    }
   }
  },
  {
   "cell_type": "code",
   "execution_count": 81,
   "outputs": [
    {
     "name": "stdout",
     "output_type": "stream",
     "text": [
      "../data/datasets/gtsrb/train/labels/00020_00000_00000.txt\n",
      "['20.0', '0.5', '0.4807692307692308', '1.0', '0.9615384615384616']\n"
     ]
    }
   ],
   "source": [
    "# mkdir(f\"{gtsrb_root}train/labels/\")\n",
    "print(f\"{gtsrb_root}train/labels/{dfs[0].loc[0].loc['Path'].split('/')[2][:-4]}.txt\")\n",
    "f = open(f\"{gtsrb_root}train/labels/{dfs[0].loc[0].loc['Path'].split('/')[2][:-4]}.txt\", \"w+\")\n",
    "# f.write(f\"{int(train_converted[0][0])} {train_converted[0][1]} {train_converted[0][2]} {train_converted[0][3]} {train_converted[0][4]}\")\n",
    "f.write(f\"{int(train_converted[0][0])} {' '.join(map(str, train_converted[0][1:]))}\")\n",
    "print([x for x in map(str, train_converted[0])])\n",
    "f.close()"
   ],
   "metadata": {
    "collapsed": false,
    "pycharm": {
     "name": "#%%\n"
    }
   }
  },
  {
   "cell_type": "code",
   "execution_count": 63,
   "outputs": [
    {
     "name": "stdout",
     "output_type": "stream",
     "text": [
      "00020_00000_00000.png Train\n"
     ]
    }
   ],
   "source": [
    "for index, row in train_df.iterrows():\n",
    "    current_subset_id, _, current_image = row.loc[\"Path\"].split(\"/\")\n",
    "    print(current_image, current_subset_id)\n",
    "    break"
   ],
   "metadata": {
    "collapsed": false,
    "pycharm": {
     "name": "#%%\n"
    }
   }
  },
  {
   "cell_type": "code",
   "execution_count": null,
   "outputs": [],
   "source": [],
   "metadata": {
    "collapsed": false,
    "pycharm": {
     "name": "#%%\n"
    }
   }
  }
 ],
 "metadata": {
  "kernelspec": {
   "display_name": "Python 3",
   "language": "python",
   "name": "python3"
  },
  "language_info": {
   "codemirror_mode": {
    "name": "ipython",
    "version": 2
   },
   "file_extension": ".py",
   "mimetype": "text/x-python",
   "name": "python",
   "nbconvert_exporter": "python",
   "pygments_lexer": "ipython2",
   "version": "2.7.6"
  }
 },
 "nbformat": 4,
 "nbformat_minor": 0
}
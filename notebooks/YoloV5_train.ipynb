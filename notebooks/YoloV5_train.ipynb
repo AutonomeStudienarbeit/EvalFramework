{
  "nbformat": 4,
  "nbformat_minor": 0,
  "metadata": {
    "colab": {
      "name": "YoloV5_train.ipynb",
      "provenance": [],
      "collapsed_sections": []
    },
    "kernelspec": {
      "name": "python3",
      "display_name": "Python 3"
    },
    "language_info": {
      "name": "python"
    },
    "accelerator": "GPU",
    "widgets": {
      "application/vnd.jupyter.widget-state+json": {
        "ce46644f83a94f7eb42e20c26692e935": {
          "model_module": "@jupyter-widgets/controls",
          "model_name": "HBoxModel",
          "model_module_version": "1.5.0",
          "state": {
            "_view_name": "HBoxView",
            "_dom_classes": [],
            "_model_name": "HBoxModel",
            "_view_module": "@jupyter-widgets/controls",
            "_model_module_version": "1.5.0",
            "_view_count": null,
            "_view_module_version": "1.5.0",
            "box_style": "",
            "layout": "IPY_MODEL_efa04842ea43475f9393dad91a830c74",
            "_model_module": "@jupyter-widgets/controls",
            "children": [
              "IPY_MODEL_bf159d3c217d4b4b9946b465e74b72f8",
              "IPY_MODEL_4c9969a32b8844e4af6724ed1fcd5580",
              "IPY_MODEL_0eed02fe9c18452893d9d97f1c9925fa"
            ]
          }
        },
        "efa04842ea43475f9393dad91a830c74": {
          "model_module": "@jupyter-widgets/base",
          "model_name": "LayoutModel",
          "model_module_version": "1.2.0",
          "state": {
            "_view_name": "LayoutView",
            "grid_template_rows": null,
            "right": null,
            "justify_content": null,
            "_view_module": "@jupyter-widgets/base",
            "overflow": null,
            "_model_module_version": "1.2.0",
            "_view_count": null,
            "flex_flow": null,
            "width": null,
            "min_width": null,
            "border": null,
            "align_items": null,
            "bottom": null,
            "_model_module": "@jupyter-widgets/base",
            "top": null,
            "grid_column": null,
            "overflow_y": null,
            "overflow_x": null,
            "grid_auto_flow": null,
            "grid_area": null,
            "grid_template_columns": null,
            "flex": null,
            "_model_name": "LayoutModel",
            "justify_items": null,
            "grid_row": null,
            "max_height": null,
            "align_content": null,
            "visibility": null,
            "align_self": null,
            "height": null,
            "min_height": null,
            "padding": null,
            "grid_auto_rows": null,
            "grid_gap": null,
            "max_width": null,
            "order": null,
            "_view_module_version": "1.2.0",
            "grid_template_areas": null,
            "object_position": null,
            "object_fit": null,
            "grid_auto_columns": null,
            "margin": null,
            "display": null,
            "left": null
          }
        },
        "bf159d3c217d4b4b9946b465e74b72f8": {
          "model_module": "@jupyter-widgets/controls",
          "model_name": "HTMLModel",
          "model_module_version": "1.5.0",
          "state": {
            "_view_name": "HTMLView",
            "style": "IPY_MODEL_bbcd4d2d10134f088554aea2410da13f",
            "_dom_classes": [],
            "description": "",
            "_model_name": "HTMLModel",
            "placeholder": "​",
            "_view_module": "@jupyter-widgets/controls",
            "_model_module_version": "1.5.0",
            "value": "100%",
            "_view_count": null,
            "_view_module_version": "1.5.0",
            "description_tooltip": null,
            "_model_module": "@jupyter-widgets/controls",
            "layout": "IPY_MODEL_5c6b29905550498d8baee25dda6d2061"
          }
        },
        "4c9969a32b8844e4af6724ed1fcd5580": {
          "model_module": "@jupyter-widgets/controls",
          "model_name": "FloatProgressModel",
          "model_module_version": "1.5.0",
          "state": {
            "_view_name": "ProgressView",
            "style": "IPY_MODEL_a4b2b6ca715e44b1b6cf08ac4d8f8b55",
            "_dom_classes": [],
            "description": "",
            "_model_name": "FloatProgressModel",
            "bar_style": "success",
            "max": 42696883,
            "_view_module": "@jupyter-widgets/controls",
            "_model_module_version": "1.5.0",
            "value": 42696883,
            "_view_count": null,
            "_view_module_version": "1.5.0",
            "orientation": "horizontal",
            "min": 0,
            "description_tooltip": null,
            "_model_module": "@jupyter-widgets/controls",
            "layout": "IPY_MODEL_bf99c47a41eb4b65b8b435e6b8d4a241"
          }
        },
        "0eed02fe9c18452893d9d97f1c9925fa": {
          "model_module": "@jupyter-widgets/controls",
          "model_name": "HTMLModel",
          "model_module_version": "1.5.0",
          "state": {
            "_view_name": "HTMLView",
            "style": "IPY_MODEL_ec35a79c86e749cd8e092ce827cb4e7c",
            "_dom_classes": [],
            "description": "",
            "_model_name": "HTMLModel",
            "placeholder": "​",
            "_view_module": "@jupyter-widgets/controls",
            "_model_module_version": "1.5.0",
            "value": " 40.7M/40.7M [00:01&lt;00:00, 24.9MB/s]",
            "_view_count": null,
            "_view_module_version": "1.5.0",
            "description_tooltip": null,
            "_model_module": "@jupyter-widgets/controls",
            "layout": "IPY_MODEL_5bb366496f79459a8346d996f2a29b07"
          }
        },
        "bbcd4d2d10134f088554aea2410da13f": {
          "model_module": "@jupyter-widgets/controls",
          "model_name": "DescriptionStyleModel",
          "model_module_version": "1.5.0",
          "state": {
            "_view_name": "StyleView",
            "_model_name": "DescriptionStyleModel",
            "description_width": "",
            "_view_module": "@jupyter-widgets/base",
            "_model_module_version": "1.5.0",
            "_view_count": null,
            "_view_module_version": "1.2.0",
            "_model_module": "@jupyter-widgets/controls"
          }
        },
        "5c6b29905550498d8baee25dda6d2061": {
          "model_module": "@jupyter-widgets/base",
          "model_name": "LayoutModel",
          "model_module_version": "1.2.0",
          "state": {
            "_view_name": "LayoutView",
            "grid_template_rows": null,
            "right": null,
            "justify_content": null,
            "_view_module": "@jupyter-widgets/base",
            "overflow": null,
            "_model_module_version": "1.2.0",
            "_view_count": null,
            "flex_flow": null,
            "width": null,
            "min_width": null,
            "border": null,
            "align_items": null,
            "bottom": null,
            "_model_module": "@jupyter-widgets/base",
            "top": null,
            "grid_column": null,
            "overflow_y": null,
            "overflow_x": null,
            "grid_auto_flow": null,
            "grid_area": null,
            "grid_template_columns": null,
            "flex": null,
            "_model_name": "LayoutModel",
            "justify_items": null,
            "grid_row": null,
            "max_height": null,
            "align_content": null,
            "visibility": null,
            "align_self": null,
            "height": null,
            "min_height": null,
            "padding": null,
            "grid_auto_rows": null,
            "grid_gap": null,
            "max_width": null,
            "order": null,
            "_view_module_version": "1.2.0",
            "grid_template_areas": null,
            "object_position": null,
            "object_fit": null,
            "grid_auto_columns": null,
            "margin": null,
            "display": null,
            "left": null
          }
        },
        "a4b2b6ca715e44b1b6cf08ac4d8f8b55": {
          "model_module": "@jupyter-widgets/controls",
          "model_name": "ProgressStyleModel",
          "model_module_version": "1.5.0",
          "state": {
            "_view_name": "StyleView",
            "_model_name": "ProgressStyleModel",
            "description_width": "",
            "_view_module": "@jupyter-widgets/base",
            "_model_module_version": "1.5.0",
            "_view_count": null,
            "_view_module_version": "1.2.0",
            "bar_color": null,
            "_model_module": "@jupyter-widgets/controls"
          }
        },
        "bf99c47a41eb4b65b8b435e6b8d4a241": {
          "model_module": "@jupyter-widgets/base",
          "model_name": "LayoutModel",
          "model_module_version": "1.2.0",
          "state": {
            "_view_name": "LayoutView",
            "grid_template_rows": null,
            "right": null,
            "justify_content": null,
            "_view_module": "@jupyter-widgets/base",
            "overflow": null,
            "_model_module_version": "1.2.0",
            "_view_count": null,
            "flex_flow": null,
            "width": null,
            "min_width": null,
            "border": null,
            "align_items": null,
            "bottom": null,
            "_model_module": "@jupyter-widgets/base",
            "top": null,
            "grid_column": null,
            "overflow_y": null,
            "overflow_x": null,
            "grid_auto_flow": null,
            "grid_area": null,
            "grid_template_columns": null,
            "flex": null,
            "_model_name": "LayoutModel",
            "justify_items": null,
            "grid_row": null,
            "max_height": null,
            "align_content": null,
            "visibility": null,
            "align_self": null,
            "height": null,
            "min_height": null,
            "padding": null,
            "grid_auto_rows": null,
            "grid_gap": null,
            "max_width": null,
            "order": null,
            "_view_module_version": "1.2.0",
            "grid_template_areas": null,
            "object_position": null,
            "object_fit": null,
            "grid_auto_columns": null,
            "margin": null,
            "display": null,
            "left": null
          }
        },
        "ec35a79c86e749cd8e092ce827cb4e7c": {
          "model_module": "@jupyter-widgets/controls",
          "model_name": "DescriptionStyleModel",
          "model_module_version": "1.5.0",
          "state": {
            "_view_name": "StyleView",
            "_model_name": "DescriptionStyleModel",
            "description_width": "",
            "_view_module": "@jupyter-widgets/base",
            "_model_module_version": "1.5.0",
            "_view_count": null,
            "_view_module_version": "1.2.0",
            "_model_module": "@jupyter-widgets/controls"
          }
        },
        "5bb366496f79459a8346d996f2a29b07": {
          "model_module": "@jupyter-widgets/base",
          "model_name": "LayoutModel",
          "model_module_version": "1.2.0",
          "state": {
            "_view_name": "LayoutView",
            "grid_template_rows": null,
            "right": null,
            "justify_content": null,
            "_view_module": "@jupyter-widgets/base",
            "overflow": null,
            "_model_module_version": "1.2.0",
            "_view_count": null,
            "flex_flow": null,
            "width": null,
            "min_width": null,
            "border": null,
            "align_items": null,
            "bottom": null,
            "_model_module": "@jupyter-widgets/base",
            "top": null,
            "grid_column": null,
            "overflow_y": null,
            "overflow_x": null,
            "grid_auto_flow": null,
            "grid_area": null,
            "grid_template_columns": null,
            "flex": null,
            "_model_name": "LayoutModel",
            "justify_items": null,
            "grid_row": null,
            "max_height": null,
            "align_content": null,
            "visibility": null,
            "align_self": null,
            "height": null,
            "min_height": null,
            "padding": null,
            "grid_auto_rows": null,
            "grid_gap": null,
            "max_width": null,
            "order": null,
            "_view_module_version": "1.2.0",
            "grid_template_areas": null,
            "object_position": null,
            "object_fit": null,
            "grid_auto_columns": null,
            "margin": null,
            "display": null,
            "left": null
          }
        }
      }
    }
  },
  "cells": [
    {
      "cell_type": "markdown",
      "source": [
        "# Train YoloV5 on the GTSRB Dataset\n",
        "Here the idea would be to use Transferlearning with pretrained weights, but depending on the runtime it could also be interesting how yoloV5 performs with random initialized weights.\n",
        "\n",
        "## Setup"
      ],
      "metadata": {
        "id": "GRlS_pikZRiS"
      }
    },
    {
      "cell_type": "code",
      "execution_count": null,
      "metadata": {
        "colab": {
          "base_uri": "https://localhost:8080/"
        },
        "id": "aD-EoC25XINZ",
        "outputId": "00608aac-ce4b-432d-ccd8-610514207bba"
      },
      "outputs": [
        {
          "output_type": "stream",
          "name": "stdout",
          "text": [
            "Cloning into 'EvalFramework'...\n",
            "remote: Enumerating objects: 248, done.\u001b[K\n",
            "remote: Counting objects: 100% (187/187), done.\u001b[K\n",
            "remote: Compressing objects: 100% (146/146), done.\u001b[K\n",
            "remote: Total 248 (delta 54), reused 169 (delta 39), pack-reused 61\u001b[K\n",
            "Receiving objects: 100% (248/248), 849.37 KiB | 978.00 KiB/s, done.\n",
            "Resolving deltas: 100% (70/70), done.\n"
          ]
        }
      ],
      "source": [
        "!git clone https://github.com/AutonomeStudienarbeit/EvalFramework.git"
      ]
    },
    {
      "cell_type": "code",
      "source": [
        "!pip install -r ./EvalFramework/requirements.txt"
      ],
      "metadata": {
        "colab": {
          "base_uri": "https://localhost:8080/",
          "height": 1000
        },
        "id": "Agm-MwviXZ5K",
        "outputId": "250e9d76-e4bb-445a-c379-ca72e9da172d"
      },
      "execution_count": null,
      "outputs": [
        {
          "output_type": "stream",
          "name": "stdout",
          "text": [
            "Requirement already satisfied: certifi==2021.10.8 in /usr/local/lib/python3.7/dist-packages (from -r ./EvalFramework/requirements.txt (line 1)) (2021.10.8)\n",
            "Collecting charset-normalizer==2.0.7\n",
            "  Downloading charset_normalizer-2.0.7-py3-none-any.whl (38 kB)\n",
            "Requirement already satisfied: cycler==0.11.0 in /usr/local/lib/python3.7/dist-packages (from -r ./EvalFramework/requirements.txt (line 3)) (0.11.0)\n",
            "Collecting fonttools==4.28.2\n",
            "  Downloading fonttools-4.28.2-py3-none-any.whl (880 kB)\n",
            "\u001b[K     |████████████████████████████████| 880 kB 17.3 MB/s \n",
            "\u001b[?25hCollecting idna==3.3\n",
            "  Downloading idna-3.3-py3-none-any.whl (61 kB)\n",
            "\u001b[K     |████████████████████████████████| 61 kB 8.7 MB/s \n",
            "\u001b[?25hRequirement already satisfied: kaggle==1.5.12 in /usr/local/lib/python3.7/dist-packages (from -r ./EvalFramework/requirements.txt (line 6)) (1.5.12)\n",
            "Requirement already satisfied: kiwisolver==1.3.2 in /usr/local/lib/python3.7/dist-packages (from -r ./EvalFramework/requirements.txt (line 7)) (1.3.2)\n",
            "Collecting matplotlib==3.5.0\n",
            "  Downloading matplotlib-3.5.0-cp37-cp37m-manylinux_2_5_x86_64.manylinux1_x86_64.whl (11.2 MB)\n",
            "\u001b[K     |████████████████████████████████| 11.2 MB 25.2 MB/s \n",
            "\u001b[?25hCollecting numpy==1.21.4\n",
            "  Downloading numpy-1.21.4-cp37-cp37m-manylinux_2_12_x86_64.manylinux2010_x86_64.whl (15.7 MB)\n",
            "\u001b[K     |████████████████████████████████| 15.7 MB 36.6 MB/s \n",
            "\u001b[?25hCollecting opencv-python==4.5.4.60\n",
            "  Downloading opencv_python-4.5.4.60-cp37-cp37m-manylinux_2_17_x86_64.manylinux2014_x86_64.whl (60.3 MB)\n",
            "\u001b[K     |████████████████████████████████| 60.3 MB 58 kB/s \n",
            "\u001b[?25hRequirement already satisfied: packaging==21.3 in /usr/local/lib/python3.7/dist-packages (from -r ./EvalFramework/requirements.txt (line 11)) (21.3)\n",
            "Collecting pandas==1.3.4\n",
            "  Downloading pandas-1.3.4-cp37-cp37m-manylinux_2_17_x86_64.manylinux2014_x86_64.whl (11.3 MB)\n",
            "\u001b[K     |████████████████████████████████| 11.3 MB 36.0 MB/s \n",
            "\u001b[?25hCollecting Pillow==8.4.0\n",
            "  Downloading Pillow-8.4.0-cp37-cp37m-manylinux_2_17_x86_64.manylinux2014_x86_64.whl (3.1 MB)\n",
            "\u001b[K     |████████████████████████████████| 3.1 MB 38.8 MB/s \n",
            "\u001b[?25hCollecting pyparsing==3.0.6\n",
            "  Downloading pyparsing-3.0.6-py3-none-any.whl (97 kB)\n",
            "\u001b[K     |████████████████████████████████| 97 kB 7.0 MB/s \n",
            "\u001b[?25hRequirement already satisfied: python-dateutil==2.8.2 in /usr/local/lib/python3.7/dist-packages (from -r ./EvalFramework/requirements.txt (line 15)) (2.8.2)\n",
            "Requirement already satisfied: python-slugify==5.0.2 in /usr/local/lib/python3.7/dist-packages (from -r ./EvalFramework/requirements.txt (line 16)) (5.0.2)\n",
            "Collecting pytz==2021.3\n",
            "  Downloading pytz-2021.3-py2.py3-none-any.whl (503 kB)\n",
            "\u001b[K     |████████████████████████████████| 503 kB 46.0 MB/s \n",
            "\u001b[?25hCollecting PyYAML==6.0\n",
            "  Downloading PyYAML-6.0-cp37-cp37m-manylinux_2_5_x86_64.manylinux1_x86_64.manylinux_2_12_x86_64.manylinux2010_x86_64.whl (596 kB)\n",
            "\u001b[K     |████████████████████████████████| 596 kB 50.9 MB/s \n",
            "\u001b[?25hCollecting requests==2.26.0\n",
            "  Downloading requests-2.26.0-py2.py3-none-any.whl (62 kB)\n",
            "\u001b[K     |████████████████████████████████| 62 kB 828 kB/s \n",
            "\u001b[?25hCollecting scipy==1.7.2\n",
            "  Downloading scipy-1.7.2-cp37-cp37m-manylinux_2_12_x86_64.manylinux2010_x86_64.whl (38.2 MB)\n",
            "\u001b[K     |████████████████████████████████| 38.2 MB 122 kB/s \n",
            "\u001b[?25hRequirement already satisfied: seaborn==0.11.2 in /usr/local/lib/python3.7/dist-packages (from -r ./EvalFramework/requirements.txt (line 21)) (0.11.2)\n",
            "Collecting setuptools-scm==6.3.2\n",
            "  Downloading setuptools_scm-6.3.2-py3-none-any.whl (33 kB)\n",
            "Collecting six==1.16.0\n",
            "  Downloading six-1.16.0-py2.py3-none-any.whl (11 kB)\n",
            "Requirement already satisfied: text-unidecode==1.3 in /usr/local/lib/python3.7/dist-packages (from -r ./EvalFramework/requirements.txt (line 24)) (1.3)\n",
            "Collecting tomli==1.2.2\n",
            "  Downloading tomli-1.2.2-py3-none-any.whl (12 kB)\n",
            "Requirement already satisfied: torch==1.10.0 in /usr/local/lib/python3.7/dist-packages (from -r ./EvalFramework/requirements.txt (line 26)) (1.10.0+cu111)\n",
            "Requirement already satisfied: torchvision==0.11.1 in /usr/local/lib/python3.7/dist-packages (from -r ./EvalFramework/requirements.txt (line 27)) (0.11.1+cu111)\n",
            "Requirement already satisfied: tqdm==4.62.3 in /usr/local/lib/python3.7/dist-packages (from -r ./EvalFramework/requirements.txt (line 28)) (4.62.3)\n",
            "Collecting typing_extensions==4.0.0\n",
            "  Downloading typing_extensions-4.0.0-py3-none-any.whl (22 kB)\n",
            "Collecting urllib3==1.26.7\n",
            "  Downloading urllib3-1.26.7-py2.py3-none-any.whl (138 kB)\n",
            "\u001b[K     |████████████████████████████████| 138 kB 53.3 MB/s \n",
            "\u001b[?25hRequirement already satisfied: setuptools in /usr/local/lib/python3.7/dist-packages (from setuptools-scm==6.3.2->-r ./EvalFramework/requirements.txt (line 22)) (57.4.0)\n",
            "Installing collected packages: pyparsing, tomli, six, urllib3, typing-extensions, setuptools-scm, pytz, Pillow, numpy, idna, fonttools, charset-normalizer, scipy, requests, pandas, matplotlib, PyYAML, opencv-python\n",
            "  Attempting uninstall: pyparsing\n",
            "    Found existing installation: pyparsing 3.0.7\n",
            "    Uninstalling pyparsing-3.0.7:\n",
            "      Successfully uninstalled pyparsing-3.0.7\n",
            "  Attempting uninstall: tomli\n",
            "    Found existing installation: tomli 2.0.0\n",
            "    Uninstalling tomli-2.0.0:\n",
            "      Successfully uninstalled tomli-2.0.0\n",
            "  Attempting uninstall: six\n",
            "    Found existing installation: six 1.15.0\n",
            "    Uninstalling six-1.15.0:\n",
            "      Successfully uninstalled six-1.15.0\n",
            "  Attempting uninstall: urllib3\n",
            "    Found existing installation: urllib3 1.24.3\n",
            "    Uninstalling urllib3-1.24.3:\n",
            "      Successfully uninstalled urllib3-1.24.3\n",
            "  Attempting uninstall: typing-extensions\n",
            "    Found existing installation: typing-extensions 3.10.0.2\n",
            "    Uninstalling typing-extensions-3.10.0.2:\n",
            "      Successfully uninstalled typing-extensions-3.10.0.2\n",
            "  Attempting uninstall: pytz\n",
            "    Found existing installation: pytz 2018.9\n",
            "    Uninstalling pytz-2018.9:\n",
            "      Successfully uninstalled pytz-2018.9\n",
            "  Attempting uninstall: Pillow\n",
            "    Found existing installation: Pillow 7.1.2\n",
            "    Uninstalling Pillow-7.1.2:\n",
            "      Successfully uninstalled Pillow-7.1.2\n",
            "  Attempting uninstall: numpy\n",
            "    Found existing installation: numpy 1.19.5\n",
            "    Uninstalling numpy-1.19.5:\n",
            "      Successfully uninstalled numpy-1.19.5\n",
            "  Attempting uninstall: idna\n",
            "    Found existing installation: idna 2.10\n",
            "    Uninstalling idna-2.10:\n",
            "      Successfully uninstalled idna-2.10\n",
            "  Attempting uninstall: charset-normalizer\n",
            "    Found existing installation: charset-normalizer 2.0.11\n",
            "    Uninstalling charset-normalizer-2.0.11:\n",
            "      Successfully uninstalled charset-normalizer-2.0.11\n",
            "  Attempting uninstall: scipy\n",
            "    Found existing installation: scipy 1.4.1\n",
            "    Uninstalling scipy-1.4.1:\n",
            "      Successfully uninstalled scipy-1.4.1\n",
            "  Attempting uninstall: requests\n",
            "    Found existing installation: requests 2.23.0\n",
            "    Uninstalling requests-2.23.0:\n",
            "      Successfully uninstalled requests-2.23.0\n",
            "  Attempting uninstall: pandas\n",
            "    Found existing installation: pandas 1.3.5\n",
            "    Uninstalling pandas-1.3.5:\n",
            "      Successfully uninstalled pandas-1.3.5\n",
            "  Attempting uninstall: matplotlib\n",
            "    Found existing installation: matplotlib 3.2.2\n",
            "    Uninstalling matplotlib-3.2.2:\n",
            "      Successfully uninstalled matplotlib-3.2.2\n",
            "  Attempting uninstall: PyYAML\n",
            "    Found existing installation: PyYAML 3.13\n",
            "    Uninstalling PyYAML-3.13:\n",
            "      Successfully uninstalled PyYAML-3.13\n",
            "  Attempting uninstall: opencv-python\n",
            "    Found existing installation: opencv-python 4.1.2.30\n",
            "    Uninstalling opencv-python-4.1.2.30:\n",
            "      Successfully uninstalled opencv-python-4.1.2.30\n",
            "\u001b[31mERROR: pip's dependency resolver does not currently take into account all the packages that are installed. This behaviour is the source of the following dependency conflicts.\n",
            "yellowbrick 1.3.post1 requires numpy<1.20,>=1.16.0, but you have numpy 1.21.4 which is incompatible.\n",
            "google-colab 1.0.0 requires requests~=2.23.0, but you have requests 2.26.0 which is incompatible.\n",
            "google-colab 1.0.0 requires six~=1.15.0, but you have six 1.16.0 which is incompatible.\n",
            "datascience 0.10.6 requires folium==0.2.1, but you have folium 0.8.3 which is incompatible.\n",
            "arviz 0.11.4 requires typing-extensions<4,>=3.7.4.3, but you have typing-extensions 4.0.0 which is incompatible.\n",
            "albumentations 0.1.12 requires imgaug<0.2.7,>=0.2.5, but you have imgaug 0.2.9 which is incompatible.\u001b[0m\n",
            "Successfully installed Pillow-8.4.0 PyYAML-6.0 charset-normalizer-2.0.7 fonttools-4.28.2 idna-3.3 matplotlib-3.5.0 numpy-1.21.4 opencv-python-4.5.4.60 pandas-1.3.4 pyparsing-3.0.6 pytz-2021.3 requests-2.26.0 scipy-1.7.2 setuptools-scm-6.3.2 six-1.16.0 tomli-1.2.2 typing-extensions-4.0.0 urllib3-1.26.7\n"
          ]
        },
        {
          "output_type": "display_data",
          "data": {
            "application/vnd.colab-display-data+json": {
              "pip_warning": {
                "packages": [
                  "PIL",
                  "matplotlib",
                  "mpl_toolkits",
                  "numpy",
                  "pandas",
                  "pyparsing",
                  "pytz",
                  "six"
                ]
              }
            }
          },
          "metadata": {}
        }
      ]
    },
    {
      "cell_type": "code",
      "source": [
        "!mv EvalFramework/* ./\n",
        "!rm -rf EvalFramework/"
      ],
      "metadata": {
        "id": "hefYM8jjRhhn"
      },
      "execution_count": null,
      "outputs": []
    },
    {
      "cell_type": "code",
      "source": [
        "# !rm -rf ~/.kaggle\n",
        "!mkdir -p ~/.kaggle"
      ],
      "metadata": {
        "id": "ExP-AIAcT4qO"
      },
      "execution_count": null,
      "outputs": []
    },
    {
      "cell_type": "code",
      "source": [
        "!cp kaggle.json ~/.kaggle/"
      ],
      "metadata": {
        "id": "7RRuD89RT6a7"
      },
      "execution_count": null,
      "outputs": []
    },
    {
      "cell_type": "code",
      "source": [
        "!ls -hal ~/.kaggle\n",
        "!chmod 600 /root/.kaggle/kaggle.json"
      ],
      "metadata": {
        "colab": {
          "base_uri": "https://localhost:8080/"
        },
        "id": "XF8vTF3_UOWR",
        "outputId": "6822d282-f21d-43c6-9330-6a361796bc38"
      },
      "execution_count": null,
      "outputs": [
        {
          "output_type": "stream",
          "name": "stdout",
          "text": [
            "total 16K\n",
            "drwxr-xr-x 2 root root 4.0K Feb 10 11:45 .\n",
            "drwx------ 1 root root 4.0K Feb 10 11:45 ..\n",
            "-rw-r--r-- 1 root root   65 Feb 10 11:45 kaggle.json\n"
          ]
        }
      ]
    },
    {
      "cell_type": "markdown",
      "source": [
        "## Download and Prepare Dataset"
      ],
      "metadata": {
        "id": "VokyTql3ZmIr"
      }
    },
    {
      "cell_type": "code",
      "source": [
        "!rm -rf ./data/datasets/gtsrb\n",
        "!rm -rf ./data/datasets/gtsrb.zip"
      ],
      "metadata": {
        "id": "fe7l-FtTj5fi"
      },
      "execution_count": null,
      "outputs": []
    },
    {
      "cell_type": "code",
      "source": [
        "from data.datasets import DatasetLoader\n",
        "\n",
        "dataset_loader = DatasetLoader()\n",
        "gtsrb_dataset = dataset_loader.load_dataset(\"GTSRB\")\n",
        "\n"
      ],
      "metadata": {
        "colab": {
          "base_uri": "https://localhost:8080/"
        },
        "id": "r-fGqqcBQZze",
        "outputId": "ab67fd75-9740-4c67-b71e-2aa7243705aa"
      },
      "execution_count": null,
      "outputs": [
        {
          "output_type": "stream",
          "name": "stdout",
          "text": [
            "Downloading gtsrb-german-traffic-sign.zip to /content/data/datasets\n"
          ]
        },
        {
          "output_type": "stream",
          "name": "stderr",
          "text": [
            "100%|██████████| 612M/612M [00:02<00:00, 216MB/s]\n"
          ]
        },
        {
          "output_type": "stream",
          "name": "stdout",
          "text": [
            "\n"
          ]
        }
      ]
    },
    {
      "cell_type": "code",
      "source": [
        "from data.models.yolov5 import YoloV5\n",
        "\n",
        "yoloV5 = YoloV5()\n",
        "yoloV5.prepare_dataset(\"gtsrb\")"
      ],
      "metadata": {
        "id": "62AGFqzeQnZb"
      },
      "execution_count": null,
      "outputs": []
    },
    {
      "cell_type": "code",
      "source": [
        "import os\n",
        "print(len(os.listdir(\"./data/datasets/gtsrb/Test/images\")))\n",
        "print(len(os.listdir(\"./data/datasets/gtsrb/Test/labels\")))"
      ],
      "metadata": {
        "colab": {
          "base_uri": "https://localhost:8080/"
        },
        "id": "TJkDYuuJVTaH",
        "outputId": "118188e3-d701-4d26-8ac5-0d27c6ae3b2c"
      },
      "execution_count": null,
      "outputs": [
        {
          "output_type": "stream",
          "name": "stdout",
          "text": [
            "12631\n",
            "12630\n"
          ]
        }
      ]
    },
    {
      "cell_type": "code",
      "source": [
        "!ls ./data/models/yolov5/yolov5-git/\n",
        "!git clone https://github.com/AutonomeStudienarbeit/yolov5.git ./data/models/yolov5/yolov5-git/"
      ],
      "metadata": {
        "colab": {
          "base_uri": "https://localhost:8080/"
        },
        "id": "2i1CaiT5VoZk",
        "outputId": "20f5a6f2-4fc5-46b7-c0a5-994c2a255352"
      },
      "execution_count": null,
      "outputs": [
        {
          "output_type": "stream",
          "name": "stdout",
          "text": [
            "Cloning into './data/models/yolov5/yolov5-git'...\n",
            "remote: Enumerating objects: 10762, done.\u001b[K\n",
            "remote: Total 10762 (delta 0), reused 0 (delta 0), pack-reused 10762\u001b[K\n",
            "Receiving objects: 100% (10762/10762), 10.88 MiB | 9.68 MiB/s, done.\n",
            "Resolving deltas: 100% (7434/7434), done.\n"
          ]
        }
      ]
    },
    {
      "cell_type": "markdown",
      "source": [
        "## Train YoloV5\n",
        "\n",
        "There are several versions of various sizes available:\n",
        "- YOLOv5n\n",
        "- YOLOv5s\n",
        "- YOLOv5m\n",
        "- YOLOv5l\n",
        "- YOLOV5x\n",
        "\n",
        "More information can be found [here](https://github.com/ultralytics/yolov5/wiki/Train-Custom-Data)\n"
      ],
      "metadata": {
        "id": "tk6-A08mZM6U"
      }
    },
    {
      "cell_type": "code",
      "source": [
        "!python ./data/models/yolov5/yolov5-git/train.py --img 250 --batch 200 --epochs 10 --data gtsrb.yaml --weights yolov5s.pt"
      ],
      "metadata": {
        "colab": {
          "base_uri": "https://localhost:8080/",
          "height": 538,
          "referenced_widgets": [
            "ce46644f83a94f7eb42e20c26692e935",
            "efa04842ea43475f9393dad91a830c74",
            "bf159d3c217d4b4b9946b465e74b72f8",
            "4c9969a32b8844e4af6724ed1fcd5580",
            "0eed02fe9c18452893d9d97f1c9925fa",
            "bbcd4d2d10134f088554aea2410da13f",
            "5c6b29905550498d8baee25dda6d2061",
            "a4b2b6ca715e44b1b6cf08ac4d8f8b55",
            "bf99c47a41eb4b65b8b435e6b8d4a241",
            "ec35a79c86e749cd8e092ce827cb4e7c",
            "5bb366496f79459a8346d996f2a29b07"
          ]
        },
        "id": "fvPZLGPfbedM",
        "outputId": "9ba5805d-87e5-45f5-a4b4-c07f1e5b72e2"
      },
      "execution_count": null,
      "outputs": [
        {
          "output_type": "stream",
          "name": "stdout",
          "text": [
            "\u001b[34m\u001b[1mWeights & Biases: \u001b[0mrun 'pip install wandb' to automatically track and visualize YOLOv5 🚀 runs (RECOMMENDED)\n",
            "Downloading https://github.com/ultralytics/yolov5/releases/download/v6.0/yolov5m.pt to yolov5m.pt...\n"
          ]
        },
        {
          "output_type": "display_data",
          "data": {
            "application/vnd.jupyter.widget-view+json": {
              "model_id": "ce46644f83a94f7eb42e20c26692e935",
              "version_minor": 0,
              "version_major": 2
            },
            "text/plain": [
              "  0%|          | 0.00/40.7M [00:00<?, ?B/s]"
            ]
          },
          "metadata": {}
        },
        {
          "output_type": "stream",
          "name": "stdout",
          "text": [
            "\n"
          ]
        },
        {
          "output_type": "stream",
          "name": "stderr",
          "text": [
            "WARNING:yolov5:WARNING: --img-size 250 must be multiple of max stride 32, updating to 256\n",
            "\u001b[34m\u001b[1mtrain: \u001b[0mScanning 'data/datasets/gtsrb/Train/labels' images and labels...39209 found, 0 missing, 0 empty, 0 corrupt: 100%|██████████| 39209/39209 [00:26<00:00, 1474.72it/s]\n",
            "\u001b[34m\u001b[1mval: \u001b[0mScanning 'data/datasets/gtsrb/Test/labels' images and labels...12630 found, 0 missing, 0 empty, 0 corrupt: 100%|██████████| 12630/12630 [00:11<00:00, 1053.20it/s]\n",
            "       0/9     11.1G    0.0483   0.01616   0.08641        32       256: 100%|██████████| 197/197 [18:07<00:00,  5.52s/it]\n",
            "               Class     Images     Labels          P          R     mAP@.5 mAP@.5:.95: 100%|██████████| 32/32 [02:53<00:00,  5.43s/it]\n",
            "       1/9     10.9G   0.03061   0.01019   0.07246        30       256: 100%|██████████| 197/197 [17:58<00:00,  5.48s/it]\n",
            "               Class     Images     Labels          P          R     mAP@.5 mAP@.5:.95: 100%|██████████| 32/32 [02:51<00:00,  5.35s/it]\n",
            "       2/9     10.9G   0.02442  0.008854   0.05973        26       256: 100%|██████████| 197/197 [18:05<00:00,  5.51s/it]\n",
            "               Class     Images     Labels          P          R     mAP@.5 mAP@.5:.95: 100%|██████████| 32/32 [02:51<00:00,  5.36s/it]\n",
            "       3/9     10.9G   0.02015  0.007989   0.05062        29       256: 100%|██████████| 197/197 [18:02<00:00,  5.50s/it]\n",
            "               Class     Images     Labels          P          R     mAP@.5 mAP@.5:.95: 100%|██████████| 32/32 [02:54<00:00,  5.44s/it]\n",
            "       4/9     10.9G   0.01581   0.00724   0.04559        29       256: 100%|██████████| 197/197 [18:05<00:00,  5.51s/it]\n",
            "               Class     Images     Labels          P          R     mAP@.5 mAP@.5:.95: 100%|██████████| 32/32 [02:53<00:00,  5.43s/it]\n",
            "       5/9     10.9G   0.01298   0.00657   0.04248        27       256: 100%|██████████| 197/197 [18:01<00:00,  5.49s/it]\n",
            "               Class     Images     Labels          P          R     mAP@.5 mAP@.5:.95: 100%|██████████| 32/32 [02:52<00:00,  5.40s/it]\n",
            "       6/9     10.9G    0.0122  0.006325   0.04018        28       256: 100%|██████████| 197/197 [18:01<00:00,  5.49s/it]\n",
            "               Class     Images     Labels          P          R     mAP@.5 mAP@.5:.95: 100%|██████████| 32/32 [02:50<00:00,  5.32s/it]\n",
            "       7/9     10.9G   0.01033  0.005823   0.03741        25       256: 100%|██████████| 197/197 [17:59<00:00,  5.48s/it]\n",
            "               Class     Images     Labels          P          R     mAP@.5 mAP@.5:.95: 100%|██████████| 32/32 [02:50<00:00,  5.31s/it]\n",
            "       8/9     10.9G  0.009022  0.005468   0.03477        30       256: 100%|██████████| 197/197 [18:05<00:00,  5.51s/it]\n",
            "               Class     Images     Labels          P          R     mAP@.5 mAP@.5:.95: 100%|██████████| 32/32 [02:49<00:00,  5.30s/it]\n",
            "       9/9     10.9G  0.007857  0.005105   0.03255        25       256: 100%|██████████| 197/197 [17:58<00:00,  5.48s/it]\n",
            "               Class     Images     Labels          P          R     mAP@.5 mAP@.5:.95: 100%|██████████| 32/32 [02:50<00:00,  5.31s/it]\n",
            "               Class     Images     Labels          P          R     mAP@.5 mAP@.5:.95: 100%|██████████| 32/32 [03:11<00:00,  5.98s/it]\n"
          ]
        }
      ]
    },
    {
      "cell_type": "code",
      "source": [
        "!nvidia-smi"
      ],
      "metadata": {
        "colab": {
          "base_uri": "https://localhost:8080/"
        },
        "id": "BeeQo26q58gB",
        "outputId": "395e7ae7-b270-4a6d-d962-8d1777eaa0bf"
      },
      "execution_count": null,
      "outputs": [
        {
          "output_type": "stream",
          "name": "stdout",
          "text": [
            "Thu Feb 10 15:25:06 2022       \n",
            "+-----------------------------------------------------------------------------+\n",
            "| NVIDIA-SMI 460.32.03    Driver Version: 460.32.03    CUDA Version: 11.2     |\n",
            "|-------------------------------+----------------------+----------------------+\n",
            "| GPU  Name        Persistence-M| Bus-Id        Disp.A | Volatile Uncorr. ECC |\n",
            "| Fan  Temp  Perf  Pwr:Usage/Cap|         Memory-Usage | GPU-Util  Compute M. |\n",
            "|                               |                      |               MIG M. |\n",
            "|===============================+======================+======================|\n",
            "|   0  Tesla K80           Off  | 00000000:00:04.0 Off |                    0 |\n",
            "| N/A   64C    P0    59W / 149W |   1359MiB / 11441MiB |      0%      Default |\n",
            "|                               |                      |                  N/A |\n",
            "+-------------------------------+----------------------+----------------------+\n",
            "                                                                               \n",
            "+-----------------------------------------------------------------------------+\n",
            "| Processes:                                                                  |\n",
            "|  GPU   GI   CI        PID   Type   Process name                  GPU Memory |\n",
            "|        ID   ID                                                   Usage      |\n",
            "|=============================================================================|\n",
            "+-----------------------------------------------------------------------------+\n"
          ]
        }
      ]
    },
    {
      "cell_type": "code",
      "source": [
        "!cat data/datasets/gtsrb/Train/labels/00013_00071_00017.txt"
      ],
      "metadata": {
        "colab": {
          "base_uri": "https://localhost:8080/"
        },
        "id": "H1XrAVPenF2M",
        "outputId": "3dcbbb38-fd5b-4da0-f3ec-2748d2a90d2b"
      },
      "execution_count": null,
      "outputs": [
        {
          "output_type": "stream",
          "name": "stdout",
          "text": [
            "13 0.5102040816326531 0.5108695652173912 1.0 1.0"
          ]
        }
      ]
    },
    {
      "cell_type": "markdown",
      "source": [
        "## Download Results"
      ],
      "metadata": {
        "id": "0gjOyw874YIL"
      }
    },
    {
      "cell_type": "code",
      "source": [
        "!zip -r ./runs.zip ./data/models/yolov5/yolov5-git/runs\n"
      ],
      "metadata": {
        "colab": {
          "base_uri": "https://localhost:8080/"
        },
        "id": "wIjeNcuT4bbI",
        "outputId": "e6edf901-c8a3-4a86-d0d1-a013c0510f6f"
      },
      "execution_count": null,
      "outputs": [
        {
          "output_type": "stream",
          "name": "stdout",
          "text": [
            "updating: data/models/yolov5/yolov5-git/runs/ (stored 0%)\n",
            "updating: data/models/yolov5/yolov5-git/runs/train/ (stored 0%)\n",
            "updating: data/models/yolov5/yolov5-git/runs/train/exp/ (stored 0%)\n",
            "updating: data/models/yolov5/yolov5-git/runs/train/exp/PR_curve.png (deflated 14%)\n",
            "updating: data/models/yolov5/yolov5-git/runs/train/exp/val_batch1_labels.jpg (deflated 18%)\n",
            "updating: data/models/yolov5/yolov5-git/runs/train/exp/train_batch2.jpg (deflated 4%)\n",
            "updating: data/models/yolov5/yolov5-git/runs/train/exp/val_batch2_pred.jpg (deflated 17%)\n",
            "updating: data/models/yolov5/yolov5-git/runs/train/exp/val_batch2_labels.jpg (deflated 18%)\n",
            "updating: data/models/yolov5/yolov5-git/runs/train/exp/labels.jpg (deflated 48%)\n",
            "updating: data/models/yolov5/yolov5-git/runs/train/exp/results.png (deflated 10%)\n",
            "updating: data/models/yolov5/yolov5-git/runs/train/exp/val_batch0_pred.jpg (deflated 19%)\n",
            "updating: data/models/yolov5/yolov5-git/runs/train/exp/val_batch0_labels.jpg (deflated 20%)\n",
            "updating: data/models/yolov5/yolov5-git/runs/train/exp/confusion_matrix.png (deflated 7%)\n",
            "updating: data/models/yolov5/yolov5-git/runs/train/exp/train_batch1.jpg (deflated 4%)\n",
            "updating: data/models/yolov5/yolov5-git/runs/train/exp/hyp.yaml (deflated 44%)\n",
            "updating: data/models/yolov5/yolov5-git/runs/train/exp/opt.yaml (deflated 49%)\n",
            "updating: data/models/yolov5/yolov5-git/runs/train/exp/P_curve.png (deflated 9%)\n",
            "updating: data/models/yolov5/yolov5-git/runs/train/exp/labels_correlogram.jpg (deflated 54%)\n",
            "updating: data/models/yolov5/yolov5-git/runs/train/exp/R_curve.png (deflated 10%)\n",
            "updating: data/models/yolov5/yolov5-git/runs/train/exp/val_batch1_pred.jpg (deflated 15%)\n",
            "updating: data/models/yolov5/yolov5-git/runs/train/exp/train_batch0.jpg (deflated 5%)\n",
            "updating: data/models/yolov5/yolov5-git/runs/train/exp/F1_curve.png (deflated 9%)\n",
            "updating: data/models/yolov5/yolov5-git/runs/train/exp/results.csv (deflated 80%)\n",
            "updating: data/models/yolov5/yolov5-git/runs/train/exp/weights/ (stored 0%)\n",
            "updating: data/models/yolov5/yolov5-git/runs/train/exp/weights/last.pt (deflated 8%)\n",
            "updating: data/models/yolov5/yolov5-git/runs/train/exp/weights/best.pt (deflated 8%)\n",
            "updating: data/models/yolov5/yolov5-git/runs/train/exp/events.out.tfevents.1644493740.c83cd19cef85.188.0 (deflated 29%)\n"
          ]
        }
      ]
    }
  ]
}
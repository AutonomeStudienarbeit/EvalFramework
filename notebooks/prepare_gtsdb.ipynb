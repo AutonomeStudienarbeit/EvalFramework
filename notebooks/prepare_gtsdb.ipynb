{
 "cells": [
  {
   "cell_type": "code",
   "metadata": {
    "collapsed": true,
    "pycharm": {
     "name": "#%%\n"
    }
   },
   "source": [
    "import pandas as pd\n",
    "import os\n",
    "import numpy as np\n",
    "from re import match as match_regex\n",
    "from shutil import move"
   ],
   "execution_count": 1,
   "outputs": []
  },
  {
   "cell_type": "code",
   "execution_count": 2,
   "outputs": [
    {
     "name": "stdout",
     "output_type": "stream",
     "text": [
      "/home/leon/Documents/Studienarbeit/EvalFramework/notebooks\n"
     ]
    }
   ],
   "source": [
    "print(os.getcwd())"
   ],
   "metadata": {
    "collapsed": false,
    "pycharm": {
     "name": "#%%\n"
    }
   }
  },
  {
   "cell_type": "markdown",
   "source": [
    "## Reorganise Folder Structure"
   ],
   "metadata": {
    "collapsed": false
   }
  },
  {
   "cell_type": "code",
   "execution_count": 10,
   "outputs": [],
   "source": [
    "gtsdb_root = \"../data/datasets/gtsdb\"\n",
    "gtsdb_train = f\"{gtsdb_root}/TrainIJCNN2013\"\n",
    "gtsdb_test = f\"{gtsdb_root}/TestIJCNN2013\""
   ],
   "metadata": {
    "collapsed": false,
    "pycharm": {
     "name": "#%%\n"
    }
   }
  },
  {
   "cell_type": "code",
   "execution_count": 9,
   "outputs": [],
   "source": [
    "#os.mkdir(f\"{gtsdb_train}/images\")\n",
    "for image in os.listdir(f\"{gtsdb_train}/TrainIJCNN2013\"):\n",
    "    if match_regex(\".*([.]ppm)\", image):\n",
    "        move(f\"{gtsdb_train}/TrainIJCNN2013/{image}\", f\"{gtsdb_train}/images\")"
   ],
   "metadata": {
    "collapsed": false,
    "pycharm": {
     "name": "#%%\n"
    }
   }
  },
  {
   "cell_type": "markdown",
   "source": [
    "## Convert gt.txt of GTSDB to YOLO Format\n",
    "YOLO format, with one *.txt file per image (if no objects in image, no *.txt file is required). The *.txt file specifications are:\n",
    "- One row per object\n",
    "- Each row is class x_center y_center width height format.\n",
    "- Box coordinates must be in normalized xywh format (from 0 - 1). If your boxes are in pixels, divide x_center and width by image width, and y_center and height by image height.\n",
    "- Class numbers are zero-indexed (start from 0).\n",
    "![](https://user-images.githubusercontent.com/26833433/91506361-c7965000-e886-11ea-8291-c72b98c25eec.jpg)\n",
    "The label file corresponding to the above image contains 2 persons (class 0) and a tie (class 27):\n",
    "![](https://user-images.githubusercontent.com/26833433/112467037-d2568c00-8d66-11eb-8796-55402ac0d62f.png)"
   ],
   "metadata": {
    "collapsed": false
   }
  },
  {
   "cell_type": "markdown",
   "source": [
    "\n",
    "- Filename: Filename of the image the annotations apply for\n",
    "- Traffic sign's region of interest (ROI) in the image\n",
    "    - leftmost image column of the ROI\n",
    "    - upmost image row of the ROI\n",
    "    - rightmost image column of the ROI\n",
    "    - downmost image row of the ROI\n",
    "- ID providing the traffic sign's class\n"
   ],
   "metadata": {
    "collapsed": false
   }
  },
  {
   "cell_type": "code",
   "execution_count": 2,
   "outputs": [
    {
     "name": "stdout",
     "output_type": "stream",
     "text": [
      "      Filename  X1.ROI  Y1.ROI  X2.ROI  Y2.ROI  classID\n",
      "0    00000.ppm     774     411     815     446       11\n",
      "1    00001.ppm     983     388    1024     432       40\n",
      "2    00001.ppm     386     494     442     552       38\n",
      "3    00001.ppm     973     335    1031     390       13\n",
      "4    00002.ppm     892     476    1006     592       39\n",
      "..         ...     ...     ...     ...     ...      ...\n",
      "847  00570.ppm     881     416     914     449        9\n",
      "848  00571.ppm    1287     361    1308     384       17\n",
      "849  00575.ppm     403     474     435     506       38\n",
      "850  00593.ppm     584     510     608     534       38\n",
      "851  00599.ppm     700     454     722     476        9\n",
      "\n",
      "[852 rows x 6 columns]\n"
     ]
    }
   ],
   "source": [
    "df = pd.read_csv(\"../data/datasets/gtsdb/TrainIJCNN2013/TrainIJCNN2013/gt.txt\",\n",
    "                 sep=\";\",\n",
    "                 names=[\"Filename\", \"X1.ROI\", \"Y1.ROI\", \"X2.ROI\", \"Y2.ROI\", \"classID\"]\n",
    "                 )\n",
    "print(df)"
   ],
   "metadata": {
    "collapsed": false,
    "pycharm": {
     "name": "#%%\n"
    }
   }
  },
  {
   "cell_type": "code",
   "execution_count": 3,
   "outputs": [],
   "source": [
    "image_size = (1360, 800) # (width, height)"
   ],
   "metadata": {
    "collapsed": false,
    "pycharm": {
     "name": "#%%\n"
    }
   }
  },
  {
   "cell_type": "code",
   "execution_count": 4,
   "outputs": [
    {
     "name": "stdout",
     "output_type": "stream",
     "text": [
      "794 428 35 41\n"
     ]
    }
   ],
   "source": [
    "# The center of rectangle is the midpoint of the diagonal end points of rectangle\n",
    "test_row = df.loc[0]\n",
    "x_center = (test_row.loc[\"X1.ROI\"] + test_row.loc[\"X2.ROI\"]) // 2\n",
    "y_center = (test_row.loc[\"Y1.ROI\"] + test_row.loc[\"Y2.ROI\"]) // 2\n",
    "box_width = test_row.loc[\"X2.ROI\"] - test_row.loc[\"X1.ROI\"]\n",
    "box_height = test_row.loc[\"Y2.ROI\"] - test_row.loc[\"Y1.ROI\"]\n",
    "print(x_center, y_center, box_height, box_width)"
   ],
   "metadata": {
    "collapsed": false,
    "pycharm": {
     "name": "#%%\n"
    }
   }
  },
  {
   "cell_type": "code",
   "execution_count": 5,
   "outputs": [
    {
     "name": "stdout",
     "output_type": "stream",
     "text": [
      "      Filename    X1.ROI   Y1.ROI    X2.ROI   Y2.ROI  classID\n",
      "0    00000.ppm  0.569118  0.51375  0.599265  0.55750       11\n",
      "1    00001.ppm  0.722794  0.48500  0.752941  0.54000       40\n",
      "2    00001.ppm  0.283824  0.61750  0.325000  0.69000       38\n",
      "3    00001.ppm  0.715441  0.41875  0.758088  0.48750       13\n",
      "4    00002.ppm  0.655882  0.59500  0.739706  0.74000       39\n",
      "..         ...       ...      ...       ...      ...      ...\n",
      "847  00570.ppm  0.647794  0.52000  0.672059  0.56125        9\n",
      "848  00571.ppm  0.946324  0.45125  0.961765  0.48000       17\n",
      "849  00575.ppm  0.296324  0.59250  0.319853  0.63250       38\n",
      "850  00593.ppm  0.429412  0.63750  0.447059  0.66750       38\n",
      "851  00599.ppm  0.514706  0.56750  0.530882  0.59500        9\n",
      "\n",
      "[852 rows x 6 columns]\n"
     ]
    }
   ],
   "source": [
    "# Normalize Coordinates\n",
    "df[\"X1.ROI\"] /= image_size[0]\n",
    "df[\"X2.ROI\"] /= image_size[0]\n",
    "df[\"Y1.ROI\"] /= image_size[1]\n",
    "df[\"Y2.ROI\"] /= image_size[1]\n",
    "print(df)"
   ],
   "metadata": {
    "collapsed": false,
    "pycharm": {
     "name": "#%%\n"
    }
   }
  },
  {
   "cell_type": "code",
   "execution_count": 15,
   "outputs": [
    {
     "name": "stdout",
     "output_type": "stream",
     "text": [
      "    Filename    X1.ROI   Y1.ROI    X2.ROI  Y2.ROI  classID\n",
      "0  00000.ppm  0.569118  0.51375  0.599265  0.5575       11\n"
     ]
    }
   ],
   "source": [
    "print(df.loc[df[\"Filename\"] == \"00000.ppm\"])"
   ],
   "metadata": {
    "collapsed": false,
    "pycharm": {
     "name": "#%%\n"
    }
   }
  },
  {
   "cell_type": "code",
   "execution_count": 6,
   "outputs": [
    {
     "name": "stdout",
     "output_type": "stream",
     "text": [
      "11\n",
      "[11, 0.5841911764705883, 0.535625, 0.030147058823529416, 0.043749999999999956]\n"
     ]
    }
   ],
   "source": [
    "for index, row in df.iterrows():\n",
    "    print(row.loc['classID'])\n",
    "    print([row.loc['classID'],\n",
    "        (row.loc[\"X1.ROI\"] + row.loc[\"X2.ROI\"]) / 2.0,\n",
    "        (row.loc[\"Y1.ROI\"] + row.loc[\"Y2.ROI\"]) / 2.0,\n",
    "        row.loc[\"X2.ROI\"] - row.loc[\"X1.ROI\"],\n",
    "        row.loc[\"Y2.ROI\"] - row.loc[\"Y1.ROI\"]])\n",
    "    break"
   ],
   "metadata": {
    "collapsed": false,
    "pycharm": {
     "name": "#%%\n"
    }
   }
  },
  {
   "cell_type": "code",
   "execution_count": 7,
   "outputs": [
    {
     "name": "stdout",
     "output_type": "stream",
     "text": [
      "(852, 5)\n",
      "[[1.10000000e+01 5.84191176e-01 5.35625000e-01 3.01470588e-02\n",
      "  4.37500000e-02]\n",
      " [4.00000000e+01 7.37867647e-01 5.12500000e-01 3.01470588e-02\n",
      "  5.50000000e-02]\n",
      " [3.80000000e+01 3.04411765e-01 6.53750000e-01 4.11764706e-02\n",
      "  7.25000000e-02]\n",
      " ...\n",
      " [3.80000000e+01 3.08088235e-01 6.12500000e-01 2.35294118e-02\n",
      "  4.00000000e-02]\n",
      " [3.80000000e+01 4.38235294e-01 6.52500000e-01 1.76470588e-02\n",
      "  3.00000000e-02]\n",
      " [9.00000000e+00 5.22794118e-01 5.81250000e-01 1.61764706e-02\n",
      "  2.75000000e-02]]\n",
      "11\n"
     ]
    }
   ],
   "source": [
    "gt_converted = np.array([\n",
    "    [\n",
    "        row.loc['classID'],\n",
    "        (row.loc[\"X1.ROI\"] + row.loc[\"X2.ROI\"]) / 2.0,\n",
    "        (row.loc[\"Y1.ROI\"] + row.loc[\"Y2.ROI\"]) / 2.0,\n",
    "        row.loc[\"X2.ROI\"] - row.loc[\"X1.ROI\"],\n",
    "        row.loc[\"Y2.ROI\"] - row.loc[\"Y1.ROI\"]\n",
    "    ] for index, row in df.iterrows()])\n",
    "print(gt_converted.shape)\n",
    "print(gt_converted)\n",
    "print(df.loc[0].loc['classID'])"
   ],
   "metadata": {
    "collapsed": false,
    "pycharm": {
     "name": "#%%\n"
    }
   }
  },
  {
   "cell_type": "code",
   "execution_count": null,
   "outputs": [],
   "source": [],
   "metadata": {
    "collapsed": false,
    "pycharm": {
     "name": "#%%\n"
    }
   }
  },
  {
   "cell_type": "code",
   "execution_count": 8,
   "outputs": [],
   "source": [
    "# check for invalid mappings\n",
    "for index, row in df.iterrows():\n",
    "    if row.loc[\"classID\"] == gt_converted[index][0] and (row.loc[\"X1.ROI\"] + row.loc[\"X2.ROI\"]) / 2 == gt_converted[index][1] and (row.loc[\"Y1.ROI\"] + row.loc[\"Y2.ROI\"]) / 2 == gt_converted[index][2] and row.loc[\"X2.ROI\"] - row.loc[\"X1.ROI\"] == gt_converted[index][3] and row.loc[\"Y2.ROI\"] - row.loc[\"Y1.ROI\"] == gt_converted[index][4]:\n",
    "        continue\n",
    "    else:\n",
    "        print(\"row false values\")\n",
    "    break"
   ],
   "metadata": {
    "collapsed": false,
    "pycharm": {
     "name": "#%%\n"
    }
   }
  },
  {
   "cell_type": "code",
   "execution_count": 25,
   "outputs": [],
   "source": [
    "os.mkdir(f\"{gtsdb_train}/labels\")"
   ],
   "metadata": {
    "collapsed": false,
    "pycharm": {
     "name": "#%%\n"
    }
   }
  },
  {
   "cell_type": "code",
   "execution_count": 11,
   "outputs": [
    {
     "name": "stdout",
     "output_type": "stream",
     "text": [
      "11 0.5841911764705883 0.535625 0.030147058823529416 0.043749999999999956\n"
     ]
    }
   ],
   "source": [
    "with open(f\"{gtsdb_train}/labels/{df.loc[0].loc['Filename'][:-4]}.txt\", \"w+\") as f:\n",
    "    print(f\"{int(gt_converted[0][0])} {' '.join(map(str, gt_converted[0][1:]))}\")\n",
    "    f.write(f\"{int(gt_converted[0][0])} {' '.join(map(str, gt_converted[0][1:]))}\")\n",
    "    f.close()"
   ],
   "metadata": {
    "collapsed": false,
    "pycharm": {
     "name": "#%%\n"
    }
   }
  },
  {
   "cell_type": "code",
   "execution_count": 12,
   "outputs": [
    {
     "data": {
      "text/plain": "[]"
     },
     "execution_count": 12,
     "metadata": {},
     "output_type": "execute_result"
    }
   ],
   "source": [
    "f = open(f\"{gtsdb_train}/labels/{df.loc[0].loc['Filename'][:-4]}.txt\", \"w+\")\n",
    "f.readlines()"
   ],
   "metadata": {
    "collapsed": false,
    "pycharm": {
     "name": "#%%\n"
    }
   }
  }
 ],
 "metadata": {
  "kernelspec": {
   "display_name": "Python 3",
   "language": "python",
   "name": "python3"
  },
  "language_info": {
   "codemirror_mode": {
    "name": "ipython",
    "version": 2
   },
   "file_extension": ".py",
   "mimetype": "text/x-python",
   "name": "python",
   "nbconvert_exporter": "python",
   "pygments_lexer": "ipython2",
   "version": "2.7.6"
  }
 },
 "nbformat": 4,
 "nbformat_minor": 0
}
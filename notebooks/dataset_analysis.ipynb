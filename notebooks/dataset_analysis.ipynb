{
 "cells": [
  {
   "cell_type": "code",
   "execution_count": 2,
   "metadata": {
    "collapsed": true
   },
   "outputs": [],
   "source": [
    "import matplotlib.pyplot as plt\n",
    "import pandas as pd\n",
    "import numpy as np"
   ]
  },
  {
   "cell_type": "code",
   "execution_count": 3,
   "metadata": {
    "collapsed": false,
    "pycharm": {
     "name": "#%%\n"
    }
   },
   "outputs": [],
   "source": [
    "gtsdb_root = \"../data/datasets/gtsdb\"\n",
    "gtsdb_train = f\"{gtsdb_root}/TrainIJCNN2013\"\n",
    "gtsdb_test = f\"{gtsdb_root}/TestIJCNN2013\"\n",
    "\n",
    "gtsrb_root = \"../data/datasets/gtsrb\""
   ]
  },
  {
   "cell_type": "markdown",
   "metadata": {
    "collapsed": false
   },
   "source": [
    "# GTSRB Analysis"
   ]
  },
  {
   "cell_type": "code",
   "execution_count": 4,
   "metadata": {
    "collapsed": false,
    "pycharm": {
     "name": "#%%\n"
    }
   },
   "outputs": [],
   "source": [
    "gtsrb_train_df = pd.read_csv(f\"{gtsrb_root}/Train.csv\")\n",
    "gtsrb_test_df = pd.read_csv(f\"{gtsrb_root}/Test.csv\")"
   ]
  },
  {
   "cell_type": "code",
   "execution_count": 5,
   "metadata": {
    "collapsed": false,
    "pycharm": {
     "name": "#%%\n"
    }
   },
   "outputs": [
    {
     "name": "stdout",
     "output_type": "stream",
     "text": [
      "       Width  Height  Roi.X1  Roi.Y1  Roi.X2  Roi.Y2  ClassId  \\\n",
      "0         27      26       5       5      22      20       20   \n",
      "1         28      27       5       6      23      22       20   \n",
      "2         29      26       6       5      24      21       20   \n",
      "3         28      27       5       6      23      22       20   \n",
      "4         28      26       5       5      23      21       20   \n",
      "...      ...     ...     ...     ...     ...     ...      ...   \n",
      "39204     52      56       5       6      47      51       42   \n",
      "39205     56      58       5       5      51      53       42   \n",
      "39206     58      62       5       6      53      57       42   \n",
      "39207     63      69       5       7      58      63       42   \n",
      "39208     68      69       7       6      62      63       42   \n",
      "\n",
      "                                 Path  \n",
      "0      Train/20/00020_00000_00000.png  \n",
      "1      Train/20/00020_00000_00001.png  \n",
      "2      Train/20/00020_00000_00002.png  \n",
      "3      Train/20/00020_00000_00003.png  \n",
      "4      Train/20/00020_00000_00004.png  \n",
      "...                               ...  \n",
      "39204  Train/42/00042_00007_00025.png  \n",
      "39205  Train/42/00042_00007_00026.png  \n",
      "39206  Train/42/00042_00007_00027.png  \n",
      "39207  Train/42/00042_00007_00028.png  \n",
      "39208  Train/42/00042_00007_00029.png  \n",
      "\n",
      "[39209 rows x 8 columns]\n",
      "       Width  Height  Roi.X1  Roi.Y1  Roi.X2  Roi.Y2  ClassId            Path\n",
      "0         53      54       6       5      48      49       16  Test/00000.png\n",
      "1         42      45       5       5      36      40        1  Test/00001.png\n",
      "2         48      52       6       6      43      47       38  Test/00002.png\n",
      "3         27      29       5       5      22      24       33  Test/00003.png\n",
      "4         60      57       5       5      55      52       11  Test/00004.png\n",
      "...      ...     ...     ...     ...     ...     ...      ...             ...\n",
      "12625     42      41       5       6      37      36       12  Test/12625.png\n",
      "12626     50      51       6       5      45      46       33  Test/12626.png\n",
      "12627     29      29       6       6      24      24        6  Test/12627.png\n",
      "12628     48      49       5       6      43      44        7  Test/12628.png\n",
      "12629     32      31       6       5      27      26       10  Test/12629.png\n",
      "\n",
      "[12630 rows x 8 columns]\n"
     ]
    }
   ],
   "source": [
    "print(gtsrb_train_df)\n",
    "print(gtsrb_test_df)"
   ]
  },
  {
   "cell_type": "code",
   "execution_count": 20,
   "metadata": {
    "collapsed": false,
    "pycharm": {
     "name": "#%%\n"
    }
   },
   "outputs": [
    {
     "data": {
      "text/plain": [
       "2     2250\n",
       "1     2220\n",
       "13    2160\n",
       "12    2100\n",
       "38    2070\n",
       "10    2010\n",
       "4     1980\n",
       "5     1860\n",
       "25    1500\n",
       "9     1470\n",
       "7     1440\n",
       "3     1410\n",
       "8     1410\n",
       "11    1320\n",
       "18    1200\n",
       "35    1200\n",
       "17    1110\n",
       "14     780\n",
       "31     780\n",
       "33     689\n",
       "15     630\n",
       "26     600\n",
       "28     540\n",
       "23     510\n",
       "30     450\n",
       "16     420\n",
       "6      420\n",
       "34     420\n",
       "22     390\n",
       "36     390\n",
       "40     360\n",
       "20     360\n",
       "21     330\n",
       "39     300\n",
       "29     270\n",
       "24     270\n",
       "32     240\n",
       "27     240\n",
       "41     240\n",
       "42     240\n",
       "37     210\n",
       "0      210\n",
       "19     210\n",
       "Name: ClassId, dtype: int64"
      ]
     },
     "execution_count": 20,
     "metadata": {},
     "output_type": "execute_result"
    }
   ],
   "source": [
    "gtsrb_train_class_counts = pd.value_counts(gtsrb_train_df['ClassId'])\n",
    "gtsrb_train_class_counts"
   ]
  },
  {
   "cell_type": "code",
   "execution_count": 18,
   "metadata": {},
   "outputs": [
    {
     "data": {
      "text/plain": [
       "911.8372093023256"
      ]
     },
     "execution_count": 18,
     "metadata": {},
     "output_type": "execute_result"
    }
   ],
   "source": [
    "gtsrb_train_class_counts.mean()"
   ]
  },
  {
   "cell_type": "code",
   "execution_count": 19,
   "metadata": {},
   "outputs": [
    {
     "data": {
      "text/plain": [
       "293.72093023255815"
      ]
     },
     "execution_count": 19,
     "metadata": {},
     "output_type": "execute_result"
    }
   ],
   "source": [
    "gtsrb_test_class_counts.mean()"
   ]
  },
  {
   "cell_type": "code",
   "execution_count": 12,
   "metadata": {
    "collapsed": false,
    "pycharm": {
     "name": "#%%\n"
    }
   },
   "outputs": [
    {
     "name": "stderr",
     "output_type": "stream",
     "text": [
      "/tmp/ipykernel_13918/3511513546.py:6: UserWarning: Matplotlib is currently using module://matplotlib_inline.backend_inline, which is a non-GUI backend, so cannot show the figure.\n",
      "  gtsdb_train_fig.show()\n"
     ]
    },
    {
     "data": {
      "image/png": "[encoded data removed]",
      "text/plain": [
       "<Figure size 576x576 with 1 Axes>"
      ]
     },
     "metadata": {
      "needs_background": "light"
     },
     "output_type": "display_data"
    }
   ],
   "source": [
    "gtsdb_train_ax = gtsrb_train_class_counts.plot(figsize=(8,8), title=\"Klassen Histogramm für GTSRB Train Split\", xlabel=\"ClassId\", kind=\"bar\")\n",
    "gtsdb_train_ax.axhline(y=gtsrb_train_class_counts.mean(), linewidth=4, color='r', label='Mean')\n",
    "gtsdb_train_ax.legend()\n",
    "gtsdb_train_fig = gtsdb_train_ax.get_figure()\n",
    "gtsdb_train_fig.savefig(\"gtsrb_train.pdf\")\n",
    "gtsdb_train_fig.show()"
   ]
  },
  {
   "cell_type": "code",
   "execution_count": 13,
   "metadata": {
    "collapsed": false,
    "pycharm": {
     "name": "#%%\n"
    }
   },
   "outputs": [
    {
     "name": "stderr",
     "output_type": "stream",
     "text": [
      "/tmp/ipykernel_13918/3613348574.py:7: UserWarning: Matplotlib is currently using module://matplotlib_inline.backend_inline, which is a non-GUI backend, so cannot show the figure.\n",
      "  gtsrb_test_fig.show()\n"
     ]
    },
    {
     "data": {
      "image/png": "[encoded data removed]",
      "text/plain": [
       "<Figure size 576x576 with 1 Axes>"
      ]
     },
     "metadata": {
      "needs_background": "light"
     },
     "output_type": "display_data"
    }
   ],
   "source": [
    "gtsrb_test_class_counts = pd.value_counts(gtsrb_test_df['ClassId'])\n",
    "gtsrb_test_ax = gtsrb_test_class_counts.plot(figsize=(8, 8), title=\"Klassen Histogramm für GTSRB Test Split\", xlabel=\"ClassId\", kind=\"bar\")\n",
    "gtsrb_test_ax.axhline(y=gtsrb_test_class_counts.mean(), linewidth=4, color='r', label='Mean')\n",
    "gtsrb_test_ax.legend()\n",
    "gtsrb_test_fig = gtsrb_test_ax.get_figure()\n",
    "gtsrb_test_fig.savefig(\"gtsrb_test.pdf\")\n",
    "gtsrb_test_fig.show()"
   ]
  },
  {
   "cell_type": "code",
   "execution_count": 17,
   "metadata": {},
   "outputs": [
    {
     "name": "stderr",
     "output_type": "stream",
     "text": [
      "/tmp/ipykernel_13918/1193800831.py:10: UserWarning: Matplotlib is currently using module://matplotlib_inline.backend_inline, which is a non-GUI backend, so cannot show the figure.\n",
      "  fig.show()\n"
     ]
    },
    {
     "data": {
      "image/png": "[encoded data removed]",
      "text/plain": [
       "<Figure size 1080x576 with 2 Axes>"
      ]
     },
     "metadata": {
      "needs_background": "light"
     },
     "output_type": "display_data"
    }
   ],
   "source": [
    "fig, axs = plt.subplots(1,2, figsize=(15,8))\n",
    "gtsrb_train_class_counts.plot(title=\"Klassen Histogramm für GTSRB Train Split\", xlabel=\"ClassId\", kind=\"bar\", ax=axs[0])\n",
    "axs[0].axhline(y=gtsrb_train_class_counts.mean(), linewidth=4, color='r', label='Mean')\n",
    "axs[0].legend()\n",
    "gtsrb_test_class_counts = pd.value_counts(gtsrb_test_df['ClassId'])\n",
    "gtsrb_test_class_counts.plot(title=\"Klassen Histogramm für GTSRB Test Split\", xlabel=\"ClassId\", kind=\"bar\", ax=axs[1])\n",
    "axs[1].axhline(y=gtsrb_test_class_counts.mean(), linewidth=4, color='r', label='Mean')\n",
    "axs[1].legend()\n",
    "fig.savefig(\"gtsrb_subplots.pdf\")\n",
    "fig.show()"
   ]
  },
  {
   "cell_type": "markdown",
   "metadata": {
    "collapsed": false
   },
   "source": [
    "# GTSDB Analysis"
   ]
  },
  {
   "cell_type": "code",
   "execution_count": 9,
   "metadata": {
    "collapsed": false,
    "pycharm": {
     "name": "#%%\n"
    }
   },
   "outputs": [],
   "source": [
    "gtsdb_gt_df = pd.read_csv(f\"{gtsdb_root}/gt.txt\", delimiter=\";\", names=[\"Filename\", \"X1.ROI\", \"Y1.ROI\", \"X2.ROI\", \"Y2.ROI\", \"classID\"])"
   ]
  },
  {
   "cell_type": "code",
   "execution_count": 10,
   "metadata": {
    "collapsed": false,
    "pycharm": {
     "name": "#%%\n"
    }
   },
   "outputs": [
    {
     "name": "stdout",
     "output_type": "stream",
     "text": [
      "      Filename  X1.ROI  Y1.ROI  X2.ROI  Y2.ROI  classID\n",
      "0    00000.ppm     774     411     815     446       11\n",
      "1    00001.ppm     983     388    1024     432       40\n",
      "2    00001.ppm     386     494     442     552       38\n",
      "3    00001.ppm     973     335    1031     390       13\n",
      "4    00002.ppm     892     476    1006     592       39\n",
      "..         ...     ...     ...     ...     ...      ...\n",
      "847  00570.ppm     881     416     914     449        9\n",
      "848  00571.ppm    1287     361    1308     384       17\n",
      "849  00575.ppm     403     474     435     506       38\n",
      "850  00593.ppm     584     510     608     534       38\n",
      "851  00599.ppm     700     454     722     476        9\n",
      "\n",
      "[852 rows x 6 columns]\n"
     ]
    }
   ],
   "source": [
    "print(gtsdb_gt_df)"
   ]
  },
  {
   "cell_type": "code",
   "execution_count": 22,
   "metadata": {
    "collapsed": false,
    "pycharm": {
     "name": "#%%\n"
    }
   },
   "outputs": [
    {
     "name": "stderr",
     "output_type": "stream",
     "text": [
      "/tmp/ipykernel_13918/2428388010.py:7: UserWarning: Matplotlib is currently using module://matplotlib_inline.backend_inline, which is a non-GUI backend, so cannot show the figure.\n",
      "  gtsdb_fig.show()\n"
     ]
    },
    {
     "data": {
      "image/png": "[encoded data removed]",
      "text/plain": [
       "<Figure size 720x720 with 1 Axes>"
      ]
     },
     "metadata": {
      "needs_background": "light"
     },
     "output_type": "display_data"
    }
   ],
   "source": [
    "gtsdb_class_counts = pd.value_counts(gtsdb_gt_df['classID'])\n",
    "gtsdb_ax = gtsdb_class_counts.plot(figsize=(10,10), title=\"Klassen Histogramm für GTSDB\", xlabel=\"ClassId\", kind=\"bar\")\n",
    "gtsdb_ax.axhline(y=gtsdb_class_counts.mean(), linewidth=4, color='r', label='Mean')\n",
    "gtsdb_ax.legend()\n",
    "gtsdb_fig = gtsdb_ax.get_figure()\n",
    "gtsdb_fig.savefig(\"gtsdb_classes.pdf\")\n",
    "gtsdb_fig.show()"
   ]
  }
 ],
 "metadata": {
  "kernelspec": {
   "display_name": "Python 3",
   "language": "python",
   "name": "python3"
  },
  "language_info": {
   "codemirror_mode": {
    "name": "ipython",
    "version": 3
   },
   "file_extension": ".py",
   "mimetype": "text/x-python",
   "name": "python",
   "nbconvert_exporter": "python",
   "pygments_lexer": "ipython3",
   "version": "3.9.10"
  }
 },
 "nbformat": 4,
 "nbformat_minor": 0
}
